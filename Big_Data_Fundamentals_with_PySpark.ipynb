{
  "nbformat": 4,
  "nbformat_minor": 0,
  "metadata": {
    "colab": {
      "name": "Big_Data_Fundamentals_with_PySpark",
      "provenance": [],
      "collapsed_sections": []
    },
    "kernelspec": {
      "name": "python3",
      "display_name": "Python 3"
    }
  },
  "cells": [
    {
      "cell_type": "code",
      "metadata": {
        "id": "-2kqz4k1NgSQ",
        "colab": {
          "base_uri": "https://localhost:8080/"
        },
        "outputId": "d1056824-50de-4b07-e76c-c8d94651f0bd"
      },
      "source": [
        "!pip install pyspark"
      ],
      "execution_count": 1,
      "outputs": [
        {
          "output_type": "stream",
          "text": [
            "Collecting pyspark\n",
            "\u001b[?25l  Downloading https://files.pythonhosted.org/packages/f0/26/198fc8c0b98580f617cb03cb298c6056587b8f0447e20fa40c5b634ced77/pyspark-3.0.1.tar.gz (204.2MB)\n",
            "\u001b[K     |████████████████████████████████| 204.2MB 67kB/s \n",
            "\u001b[?25hCollecting py4j==0.10.9\n",
            "\u001b[?25l  Downloading https://files.pythonhosted.org/packages/9e/b6/6a4fb90cd235dc8e265a6a2067f2a2c99f0d91787f06aca4bcf7c23f3f80/py4j-0.10.9-py2.py3-none-any.whl (198kB)\n",
            "\u001b[K     |████████████████████████████████| 204kB 50.9MB/s \n",
            "\u001b[?25hBuilding wheels for collected packages: pyspark\n",
            "  Building wheel for pyspark (setup.py) ... \u001b[?25l\u001b[?25hdone\n",
            "  Created wheel for pyspark: filename=pyspark-3.0.1-py2.py3-none-any.whl size=204612242 sha256=3886de2696d7ea0377d5bd1645df10fa586fb151a0d3333edc7395b1a66ea958\n",
            "  Stored in directory: /root/.cache/pip/wheels/5e/bd/07/031766ca628adec8435bb40f0bd83bb676ce65ff4007f8e73f\n",
            "Successfully built pyspark\n",
            "Installing collected packages: py4j, pyspark\n",
            "Successfully installed py4j-0.10.9 pyspark-3.0.1\n"
          ],
          "name": "stdout"
        }
      ]
    },
    {
      "cell_type": "code",
      "metadata": {
        "id": "T_I-wvwGNiik"
      },
      "source": [
        "# ต้องมี SparkContext ก่อนที่จะเริ่มใช้ Spark Functionality\n",
        "from pyspark import SparkContext\n",
        "sc = SparkContext()\n",
        "\n",
        "# ใช้สำหรับ Spark DataFrame\n",
        "from pyspark.sql import SparkSession\n",
        "spark = SparkSession.builder.getOrCreate()\n"
      ],
      "execution_count": 2,
      "outputs": []
    },
    {
      "cell_type": "code",
      "metadata": {
        "id": "a8OKuf6BPCkJ",
        "colab": {
          "base_uri": "https://localhost:8080/"
        },
        "outputId": "2efb7353-7d20-46dc-9b1f-f8a1560cf106"
      },
      "source": [
        "### Loading data into Spark\r\n",
        "\r\n",
        "# .parallelize() ใช้กับตัวเลข หรือ key value pairs\r\n",
        "# .textFile() ใช้กับ unstructured data ที่มีตัวหนังสือเยอะๆ\r\n",
        "# .collect() แสดงผลออกมาในรูปของ list\r\n",
        "with open('README.md', 'w') as opened_file:\r\n",
        "    opened_file.write('[![buildstatus](https://travis-ci.org/holdenk/learning-spark-examples.svg?branch=master)](https://travis-ci.org/holdenk/learning-spark-examples) Examples for Learning Spark =============== Examples for the Learning Spark book. These examples require a number of libraries and as such have long build files. We have also added a stand alone example with minimal dependencies and a small build file in the mini-complete-example directory. These examples have been updated to run against Spark 1.3 so they may be slightly different than the versions in your copy of \"Learning Spark\".Requirements == * JDK 1.7 or higher * Scala 2.10.3 - scala-lang.org * Spark 1.3* Protobuf compiler- On debian you can install with sudo apt-get install protobuf-compiler* R & the CRAN package Imap are required for the ChapterSixExample* The Python examples require urllib3 Python examples === From spark just run ./bin/pyspark ./src/python/[example] Spark Submit')\r\n",
        "\r\n",
        "rdd1 = sc.parallelize([1, 2, 3, 4, 5])\r\n",
        "rdd2 = sc.parallelize(range(1,11))\r\n",
        "rdd3 = sc.parallelize(\"Fuck you cocksucker\")\r\n",
        "rdd4 = sc.parallelize([1, 2, 3, 4, 5], numSlices = 6)\r\n",
        "rdd5 = sc.textFile(\"README.md\")\r\n",
        "rdd6 = sc.textFile(\"README.md\", minPartitions=6)\r\n",
        "\r\n",
        "print(rdd1.collect())\r\n",
        "print(rdd2.collect())\r\n",
        "print(rdd3.collect())\r\n",
        "print(rdd.take(1))\r\n",
        "print(rdd1.getNumPartitions())\r\n",
        "print(rdd4.getNumPartitions())\r\n",
        "print(rdd5.getNumPartitions())\r\n",
        "print(rdd6.getNumPartitions())"
      ],
      "execution_count": null,
      "outputs": [
        {
          "output_type": "stream",
          "text": [
            "[1, 2, 3, 4, 5]\n",
            "[1, 2, 3, 4, 5, 6, 7, 8, 9, 10]\n",
            "['F', 'u', 'c', 'k', ' ', 'y', 'o', 'u', ' ', 'c', 'o', 'c', 'k', 's', 'u', 'c', 'k', 'e', 'r']\n",
            "['[![buildstatus](https://travis-ci.org/holdenk/learning-spark-examples.svg?branch=master)](https://travis-ci.org/holdenk/learning-spark-examples) Examples for Learning Spark =============== Examples for the Learning Spark book. These examples require a number of libraries and as such have long build files. We have also added a stand alone example with minimal dependencies and a small build file in the mini-complete-example directory. These examples have been updated to run against Spark 1.3 so they may be slightly different than the versions in your copy of \"Learning Spark\".Requirements == * JDK 1.7 or higher * Scala 2.10.3 - scala-lang.org * Spark 1.3* Protobuf compiler- On debian you can install with sudo apt-get install protobuf-compiler* R & the CRAN package Imap are required for the ChapterSixExample* The Python examples require urllib3 Python examples === From spark just run ./bin/pyspark ./src/python/[example] Spark Submit']\n",
            "2\n",
            "6\n",
            "2\n",
            "6\n"
          ],
          "name": "stdout"
        }
      ]
    },
    {
      "cell_type": "code",
      "metadata": {
        "id": "ZhITIyyXS1XI",
        "colab": {
          "base_uri": "https://localhost:8080/"
        },
        "outputId": "ba3ddca2-429b-49ac-c076-df85540a8f4b"
      },
      "source": [
        "### RDD Transformation ###\r\n",
        "\r\n",
        "# .map() Transformation\r\n",
        "print(\".map() Transformation\")\r\n",
        "print(sc.parallelize([1,2,3,4]).collect())\r\n",
        "print(sc.parallelize([1,2,3,4]).map(lambda x: 3*x).collect(), \"\\n\")\r\n",
        "\r\n",
        "# .filter() Transformation\r\n",
        "print(\".filter() Transformation\")\r\n",
        "print(sc.parallelize(range(0, 101)).collect())\r\n",
        "print(sc.parallelize(range(0, 101)).filter(lambda x: x%20==0).collect(), \"\\n\")\r\n",
        "\r\n",
        "# .flatmap() Transformation\r\n",
        "print(\".flatmap() Transformation\")\r\n",
        "print(sc.parallelize([\"Fuck you cocksucker\", \"Shit, damn cunt\"]).collect())\r\n",
        "print(sc.parallelize([\"Fuck you cocksucker\", \"Shit, damn cunt\"]).map(lambda s: s.split(\" \")).collect())\r\n",
        "print(sc.parallelize([\"Fuck you cocksucker\", \"Shit, damn cunt\"]).flatMap(lambda s: s.split(\" \")).collect())\r\n",
        "\r\n",
        "# .union() Transformation\r\n",
        "print(\".union() Transformation\")\r\n",
        "print(sc.parallelize([1,2,3,4]).union(sc.parallelize([5, 6, 7, 8])).collect())\r\n"
      ],
      "execution_count": null,
      "outputs": [
        {
          "output_type": "stream",
          "text": [
            ".map() Transformation\n",
            "[1, 2, 3, 4]\n",
            "[3, 6, 9, 12] \n",
            "\n",
            ".filter() Transformation\n",
            "[0, 1, 2, 3, 4, 5, 6, 7, 8, 9, 10, 11, 12, 13, 14, 15, 16, 17, 18, 19, 20, 21, 22, 23, 24, 25, 26, 27, 28, 29, 30, 31, 32, 33, 34, 35, 36, 37, 38, 39, 40, 41, 42, 43, 44, 45, 46, 47, 48, 49, 50, 51, 52, 53, 54, 55, 56, 57, 58, 59, 60, 61, 62, 63, 64, 65, 66, 67, 68, 69, 70, 71, 72, 73, 74, 75, 76, 77, 78, 79, 80, 81, 82, 83, 84, 85, 86, 87, 88, 89, 90, 91, 92, 93, 94, 95, 96, 97, 98, 99, 100]\n",
            "[0, 20, 40, 60, 80, 100] \n",
            "\n",
            ".flatmap() Transformation\n",
            "['Fuck you cocksucker', 'Shit, damn cunt']\n",
            "[['Fuck', 'you', 'cocksucker'], ['Shit,', 'damn', 'cunt']]\n",
            "['Fuck', 'you', 'cocksucker', 'Shit,', 'damn', 'cunt']\n",
            ".union() Transformation\n",
            "[1, 2, 3, 4, 5, 6, 7, 8]\n"
          ],
          "name": "stdout"
        }
      ]
    },
    {
      "cell_type": "code",
      "metadata": {
        "id": "3rqKoSO5VK6s",
        "colab": {
          "base_uri": "https://localhost:8080/"
        },
        "outputId": "f214dde1-089e-4246-bec3-5435f75c2704"
      },
      "source": [
        "### RDD Actions ###\r\n",
        "RDD = sc.parallelize([1,2,3,4,5])\r\n",
        "print(RDD.collect())\r\n",
        "print(RDD.take(3))\r\n",
        "print(RDD.first())\r\n",
        "print(RDD.count())\r\n",
        "\r\n",
        "# Reduce\r\n",
        "print(RDD.reduce(lambda x, y: x+y))\r\n",
        "\r\n",
        "# saveAsTextFile\r\n",
        "RDD.saveAsTextFile(\"array1\")\r\n",
        "RDD.coalesce(1).saveAsTextFile(\"array2\")\r\n"
      ],
      "execution_count": null,
      "outputs": [
        {
          "output_type": "stream",
          "text": [
            "[1, 2, 3, 4, 5]\n",
            "[1, 2, 3]\n",
            "1\n",
            "5\n",
            "15\n"
          ],
          "name": "stdout"
        }
      ]
    },
    {
      "cell_type": "code",
      "metadata": {
        "id": "l00VwGPSVoB4",
        "colab": {
          "base_uri": "https://localhost:8080/"
        },
        "outputId": "adb3549d-946c-4f28-98e9-c6d52057efe6"
      },
      "source": [
        "### Creating Pair RDD\n",
        "\n",
        "# Method 1\n",
        "print(sc.parallelize([(\"Arm\", 3), (\"Pook\", 2), (\"Arm\", 4), (\"Mon\", 3)]).collect())\n",
        "\n",
        "# Method 2\n",
        "print(sc.parallelize([\"Arm 3\", \"Pook 2\", \"Arm 4\", \"Mon 3\"]).map(lambda s: (s.split()[0], s.split()[1])).collect())\n"
      ],
      "execution_count": null,
      "outputs": [
        {
          "output_type": "stream",
          "text": [
            "[('Arm', 3), ('Pook', 2), ('Arm', 4), ('Mon', 3)]\n",
            "[('Arm', '3'), ('Pook', '2'), ('Arm', '4'), ('Mon', '3')]\n"
          ],
          "name": "stdout"
        }
      ]
    },
    {
      "cell_type": "code",
      "metadata": {
        "id": "Lfw10HNfWaWK",
        "colab": {
          "base_uri": "https://localhost:8080/"
        },
        "outputId": "9c952af6-20ad-46cc-c392-49823c8888b2"
      },
      "source": [
        "### Transformations of pair RDD ###\r\n",
        "RDD = sc.parallelize([(\"Arm\", 3), (\"Pook\", 2), (\"Arm\", 4), (\"Mon\", 3)])\r\n",
        "\r\n",
        "# reduceByKey\r\n",
        "print(RDD.reduceByKey(lambda x, y: x-y).collect())\r\n",
        "print(RDD.reduceByKey(lambda x, y: x*y).collect(), \"\\n\")\r\n",
        "\r\n",
        "# sortByKey\r\n",
        "print(RDD.sortByKey().collect())\r\n",
        "print(RDD.sortByKey(ascending=False).collect())\r\n",
        "print(RDD.map(lambda x: (x[1], x[0])).sortByKey().collect())\r\n",
        "print(RDD.sortByKey(ascending=False).collect(), \"\\n\")\r\n",
        "\r\n",
        "# groupByKey\r\n",
        "print(RDD.groupByKey().collect()) #Does not present the term\r\n",
        "for i, j in RDD.groupByKey().collect():\r\n",
        "  print(i, list(j))\r\n",
        "print(\"\\n\")\r\n",
        "\r\n",
        "# join\r\n",
        "RDD2 = sc.parallelize([(\"Arm\", 55), (\"Pook\", 23), (\"Fuck\", 24)])\r\n",
        "print(RDD.join(RDD2).collect())"
      ],
      "execution_count": null,
      "outputs": [
        {
          "output_type": "stream",
          "text": [
            "[('Pook', 2), ('Arm', -1), ('Mon', 3)]\n",
            "[('Pook', 2), ('Arm', 12), ('Mon', 3)] \n",
            "\n",
            "[('Arm', 3), ('Arm', 4), ('Mon', 3), ('Pook', 2)]\n",
            "[('Pook', 2), ('Mon', 3), ('Arm', 3), ('Arm', 4)]\n",
            "[(2, 'Pook'), (3, 'Arm'), (3, 'Mon'), (4, 'Arm')]\n",
            "[('Pook', 2), ('Mon', 3), ('Arm', 3), ('Arm', 4)] \n",
            "\n",
            "[('Pook', <pyspark.resultiterable.ResultIterable object at 0x7fe58a0b86d8>), ('Arm', <pyspark.resultiterable.ResultIterable object at 0x7fe58a0b8eb8>), ('Mon', <pyspark.resultiterable.ResultIterable object at 0x7fe58a0b8a20>)]\n",
            "Pook [2]\n",
            "Arm [3, 4]\n",
            "Mon [3]\n",
            "\n",
            "\n",
            "[('Pook', (2, 23)), ('Arm', (3, 55)), ('Arm', (4, 55))]\n"
          ],
          "name": "stdout"
        }
      ]
    },
    {
      "cell_type": "code",
      "metadata": {
        "colab": {
          "base_uri": "https://localhost:8080/"
        },
        "id": "xWpFjcwOV12Q",
        "outputId": "3bc9938d-c525-4f94-dff7-4fd6a573d9f1"
      },
      "source": [
        "### Actions of Pair RDD ###\r\n",
        "\r\n",
        "# countByKey\r\n",
        "RDD = sc.parallelize([(\"Arm\", 3), (\"Pook\", 2), (\"Arm\", 4), (\"Mon\", 3), (\"Arm\", 999)])\r\n",
        "print(RDD.countByKey()) # count the number of occurences by key\r\n",
        "\r\n",
        "# collectAsMap\r\n",
        "print(RDD.collectAsMap())  # return only the latest key-value pairs"
      ],
      "execution_count": null,
      "outputs": [
        {
          "output_type": "stream",
          "text": [
            "defaultdict(<class 'int'>, {'Arm': 3, 'Pook': 1, 'Mon': 1})\n",
            "{'Arm': 999, 'Pook': 2, 'Mon': 3}\n"
          ],
          "name": "stdout"
        }
      ]
    },
    {
      "cell_type": "code",
      "metadata": {
        "colab": {
          "base_uri": "https://localhost:8080/"
        },
        "id": "J4YfkDCIWhPo",
        "outputId": "7dc7db35-781b-4cc6-bd41-16726aab5eba"
      },
      "source": [
        "### Count most often words ###\r\n",
        "\r\n",
        "stop_words = ['i', 'me', 'my', 'myself', 'we', 'our', 'ours', 'ourselves', 'you', 'your', 'yours', 'yourself', 'yourselves', 'he', 'him', 'his', 'himself', 'she', 'her', 'hers', 'herself', 'it', 'its', 'itself', 'they', 'them', 'their', 'theirs', 'themselves', 'what', 'which', 'who', 'whom', 'this', 'that', 'these', 'those', 'am', 'is', 'are', 'was', 'were', 'be', 'been', 'being', 'have', 'has', 'had', 'having', 'do', 'does', 'did', 'doing', 'a', 'an', 'the', 'and', 'but', 'if', 'or', 'because', 'as', 'until', 'while', 'of', 'at', 'by', 'for', 'with', 'about', 'against', 'between', 'into', 'through', 'during', 'before', 'after', 'above', 'below', 'to', 'from', 'up', 'down', 'in', 'out', 'on', 'off', 'over', 'under', 'again', 'further', 'then', 'once', 'here', 'there', 'when', 'where', 'why', 'how', 'all', 'any', 'both', 'each', 'few', 'more', 'most', 'other', 'some', 'such', 'no', 'nor', 'not', 'only', 'own', 'same', 'so', 'than', 'too', 'very', 'can', 'will', 'just', 'don', 'should', 'now']\r\n",
        "RDD = sc.textFile(\"Complete_Shakespeare.txt\").flatMap(lambda s: s.split())\r\n",
        "print(RDD.take(5))\r\n",
        "RDD_no_stop = RDD.filter(lambda s: s.lower() not in stop_words)\r\n",
        "pair_RDD = RDD_no_stop.map(lambda w: (w, 1))\r\n",
        "print(pair_RDD.take(5))\r\n",
        "result = pair_RDD.reduceByKey(lambda x, y: x+y)\r\n",
        "print(result.take(5))\r\n",
        "result.map(lambda x: (x[1], x[0])).sortByKey(ascending=False).take(10) # สลับเอาจำนวนครั้งของคำขึ้นนำหน้าเพื่อเรียงลำดับ\r\n",
        "\r\n"
      ],
      "execution_count": null,
      "outputs": [
        {
          "output_type": "stream",
          "text": [
            "['The', 'Project', 'Gutenberg', 'EBook', 'of']\n",
            "[('Project', 1), ('Gutenberg', 1), ('EBook', 1), ('Complete', 1), ('Works', 1)]\n",
            "[('Project', 9), ('EBook', 1), ('Shakespeare', 12), ('use', 38), ('anyone', 1)]\n"
          ],
          "name": "stdout"
        },
        {
          "output_type": "execute_result",
          "data": {
            "text/plain": [
              "[(650, 'thou'),\n",
              " (574, 'thy'),\n",
              " (393, 'shall'),\n",
              " (311, 'would'),\n",
              " (295, 'good'),\n",
              " (286, 'thee'),\n",
              " (273, 'love'),\n",
              " (269, 'Enter'),\n",
              " (254, \"th'\"),\n",
              " (225, 'make')]"
            ]
          },
          "metadata": {
            "tags": []
          },
          "execution_count": 96
        }
      ]
    },
    {
      "cell_type": "code",
      "metadata": {
        "colab": {
          "base_uri": "https://localhost:8080/"
        },
        "id": "36JtTYrpXqlV",
        "outputId": "501b08d7-e503-49e7-d984-bb4b1b0b7ed5"
      },
      "source": [
        "### Create DataFrame ###\r\n",
        "from pyspark.sql import SparkSession\r\n",
        "spark = SparkSession.builder.getOrCreate()\r\n",
        "\r\n",
        "# From RDD\r\n",
        "RDD = sc.parallelize([(\"XS\", 2018, 5.65, 2.79, 6.24),(\"XR\", 2018, 5.94, 2.98, 6.84),(\"X10\", 2017, 5.65, 2.79, 6.13),(\"8Plus\", 2017, 6.23, 3.07, 7.12)])\r\n",
        "names = ['Model', 'Year', 'Height', 'Width', 'Weight']\r\n",
        "sdf = spark.createDataFrame(RDD, schema=names)\r\n",
        "print(sdf.show())\r\n",
        "\r\n",
        "RDD = sc.parallelize([('Mona',20), ('Jennifer',34),('John',20), ('Jim',26)])\r\n",
        "sdf = spark.createDataFrame(RDD, schema=[\"Name\", \"Age\"])\r\n",
        "print(sdf.show())\r\n",
        "\r\n",
        "# From csv\r\n",
        "sdf_csv = spark.read.csv(\"people.csv\", header=True,inferSchema=True)\r\n",
        "print(sdf_csv.show())"
      ],
      "execution_count": null,
      "outputs": [
        {
          "output_type": "stream",
          "text": [
            "+-----+----+------+-----+------+\n",
            "|Model|Year|Height|Width|Weight|\n",
            "+-----+----+------+-----+------+\n",
            "|   XS|2018|  5.65| 2.79|  6.24|\n",
            "|   XR|2018|  5.94| 2.98|  6.84|\n",
            "|  X10|2017|  5.65| 2.79|  6.13|\n",
            "|8Plus|2017|  6.23| 3.07|  7.12|\n",
            "+-----+----+------+-----+------+\n",
            "\n",
            "None\n",
            "+--------+---+\n",
            "|    Name|Age|\n",
            "+--------+---+\n",
            "|    Mona| 20|\n",
            "|Jennifer| 34|\n",
            "|    John| 20|\n",
            "|     Jim| 26|\n",
            "+--------+---+\n",
            "\n",
            "None\n",
            "+---+---------+-----------------+------+-------------+\n",
            "|_c0|person_id|             name|   sex|date of birth|\n",
            "+---+---------+-----------------+------+-------------+\n",
            "|  0|      100|   Penelope Lewis|female|   1990-08-31|\n",
            "|  1|      101|    David Anthony|  male|   1971-10-14|\n",
            "|  2|      102|        Ida Shipp|female|   1962-05-24|\n",
            "|  3|      103|     Joanna Moore|female|   2017-03-10|\n",
            "|  4|      104|   Lisandra Ortiz|female|   2020-08-05|\n",
            "|  5|      105|    David Simmons|  male|   1999-12-30|\n",
            "|  6|      106|    Edward Hudson|  male|   1983-05-09|\n",
            "|  7|      107|     Albert Jones|  male|   1990-09-13|\n",
            "|  8|      108| Leonard Cavender|  male|   1958-08-08|\n",
            "|  9|      109|   Everett Vadala|  male|   2005-05-24|\n",
            "| 10|      110| Freddie Claridge|  male|   2002-05-07|\n",
            "| 11|      111|Annabelle Rosseau|female|   1989-07-13|\n",
            "| 12|      112|    Eulah Emanuel|female|   1976-01-19|\n",
            "| 13|      113|       Shaun Love|  male|   1970-05-26|\n",
            "| 14|      114|Alejandro Brennan|  male|   1980-12-22|\n",
            "| 15|      115|Robert Mcreynolds|  male|   1973-12-27|\n",
            "| 16|      116|   Carla Spickard|female|   1985-06-13|\n",
            "| 17|      117|Florence Eberhart|female|   2024-06-01|\n",
            "| 18|      118|     Tina Gaskins|female|   1966-12-05|\n",
            "| 19|      119| Florence Mulhern|female|   1959-05-31|\n",
            "+---+---------+-----------------+------+-------------+\n",
            "only showing top 20 rows\n",
            "\n",
            "None\n"
          ],
          "name": "stdout"
        }
      ]
    },
    {
      "cell_type": "code",
      "metadata": {
        "id": "L5nAhEoiUiRn",
        "colab": {
          "base_uri": "https://localhost:8080/",
          "height": 1000
        },
        "outputId": "25156376-7349-406f-8bae-986aead58530"
      },
      "source": [
        "### Dataframe transformation ###\n",
        "\n",
        "RDD = sc.parallelize([('Mona',20), ('Jennifer',34),('John',20), ('Jim',26), ('Jim',26), ('John',20), ('John',25)])\n",
        "sdf = spark.createDataFrame(RDD, schema=[\"Name\", \"Age\"])\n",
        "sdf_csv = spark.read.csv(\"people.csv\", header=True,inferSchema=True)\n",
        "# .select(\"col_name\")\n",
        "print(sdf_csv.select(\"name\").show(2))\n",
        "print(sdf_csv.select(\"sex\", \"person_id\").show(2))\n",
        "\n",
        "# .filter()\n",
        "print(sdf.filter(\"Age < 30\").show()) # filter ด้วย sql query\n",
        "print(sdf.filter(sdf[\"Age\"] < 30).show()) # ใช้ sdf.Age ก็ได้ filter ด้วย booleean array\n",
        "\n",
        "#. groupBy()\n",
        "print(sdf_csv.groupby(\"sex\").count().show())\n",
        "print(sdf_csv.groupBy(\"sex\").count().show())\n",
        "\n",
        "# .orderBy()\n",
        "print(sdf.orderBy(\"Age\").show())\n",
        "print(sdf.orderBy(\"Age\", ascending=False).show())\n",
        "\n",
        "# .dropDuplicates()\n",
        "print(sdf.show())\n",
        "print(sdf.dropDuplicates().show())\n",
        "\n",
        "# .withColumnRenamed()\n",
        "print(sdf_csv.withColumnRenamed(\"_c0\", \"index\").show(3))\n",
        "\n",
        "# .printSchema()\n",
        "print(sdf_csv.printSchema())\n",
        "print(sdf.printSchema())\n",
        "\n",
        "# .describe()\n",
        "print(sdf_csv.describe().show())\n",
        "print(sdf.describe().show())\n",
        "\n",
        "# .columns ไม่มีวงเล็บ -- แสดงชื่อคอลัมน์\n",
        "display(sdf_csv.columns)"
      ],
      "execution_count": null,
      "outputs": [
        {
          "output_type": "stream",
          "text": [
            "+--------------+\n",
            "|          name|\n",
            "+--------------+\n",
            "|Penelope Lewis|\n",
            "| David Anthony|\n",
            "+--------------+\n",
            "only showing top 2 rows\n",
            "\n",
            "None\n",
            "+------+---------+\n",
            "|   sex|person_id|\n",
            "+------+---------+\n",
            "|female|      100|\n",
            "|  male|      101|\n",
            "+------+---------+\n",
            "only showing top 2 rows\n",
            "\n",
            "None\n",
            "+----+---+\n",
            "|Name|Age|\n",
            "+----+---+\n",
            "|Mona| 20|\n",
            "|John| 20|\n",
            "| Jim| 26|\n",
            "| Jim| 26|\n",
            "|John| 20|\n",
            "|John| 25|\n",
            "+----+---+\n",
            "\n",
            "None\n",
            "+----+---+\n",
            "|Name|Age|\n",
            "+----+---+\n",
            "|Mona| 20|\n",
            "|John| 20|\n",
            "| Jim| 26|\n",
            "| Jim| 26|\n",
            "|John| 20|\n",
            "|John| 25|\n",
            "+----+---+\n",
            "\n",
            "None\n",
            "+------+-----+\n",
            "|   sex|count|\n",
            "+------+-----+\n",
            "|  null| 1920|\n",
            "|female|49014|\n",
            "|  male|49066|\n",
            "+------+-----+\n",
            "\n",
            "None\n",
            "+------+-----+\n",
            "|   sex|count|\n",
            "+------+-----+\n",
            "|  null| 1920|\n",
            "|female|49014|\n",
            "|  male|49066|\n",
            "+------+-----+\n",
            "\n",
            "None\n",
            "+--------+---+\n",
            "|    Name|Age|\n",
            "+--------+---+\n",
            "|    John| 20|\n",
            "|    John| 20|\n",
            "|    Mona| 20|\n",
            "|    John| 25|\n",
            "|     Jim| 26|\n",
            "|     Jim| 26|\n",
            "|Jennifer| 34|\n",
            "+--------+---+\n",
            "\n",
            "None\n",
            "+--------+---+\n",
            "|    Name|Age|\n",
            "+--------+---+\n",
            "|Jennifer| 34|\n",
            "|     Jim| 26|\n",
            "|     Jim| 26|\n",
            "|    John| 25|\n",
            "|    John| 20|\n",
            "|    Mona| 20|\n",
            "|    John| 20|\n",
            "+--------+---+\n",
            "\n",
            "None\n",
            "+--------+---+\n",
            "|    Name|Age|\n",
            "+--------+---+\n",
            "|    Mona| 20|\n",
            "|Jennifer| 34|\n",
            "|    John| 20|\n",
            "|     Jim| 26|\n",
            "|     Jim| 26|\n",
            "|    John| 20|\n",
            "|    John| 25|\n",
            "+--------+---+\n",
            "\n",
            "None\n",
            "+--------+---+\n",
            "|    Name|Age|\n",
            "+--------+---+\n",
            "|Jennifer| 34|\n",
            "|    John| 20|\n",
            "|    John| 25|\n",
            "|    Mona| 20|\n",
            "|     Jim| 26|\n",
            "+--------+---+\n",
            "\n",
            "None\n",
            "+-----+---------+--------------+------+-------------+\n",
            "|index|person_id|          name|   sex|date of birth|\n",
            "+-----+---------+--------------+------+-------------+\n",
            "|    0|      100|Penelope Lewis|female|   1990-08-31|\n",
            "|    1|      101| David Anthony|  male|   1971-10-14|\n",
            "|    2|      102|     Ida Shipp|female|   1962-05-24|\n",
            "+-----+---------+--------------+------+-------------+\n",
            "only showing top 3 rows\n",
            "\n",
            "None\n",
            "root\n",
            " |-- _c0: integer (nullable = true)\n",
            " |-- person_id: integer (nullable = true)\n",
            " |-- name: string (nullable = true)\n",
            " |-- sex: string (nullable = true)\n",
            " |-- date of birth: string (nullable = true)\n",
            "\n",
            "None\n",
            "root\n",
            " |-- Name: string (nullable = true)\n",
            " |-- Age: long (nullable = true)\n",
            "\n",
            "None\n",
            "+-------+-----------------+-----------------+-------------+------+-------------+\n",
            "|summary|              _c0|        person_id|         name|   sex|date of birth|\n",
            "+-------+-----------------+-----------------+-------------+------+-------------+\n",
            "|  count|           100000|           100000|       100000| 98080|       100000|\n",
            "|   mean|          49999.5|          50099.5|         null|  null|         null|\n",
            "| stddev|28867.65779668774|28867.65779668774|         null|  null|         null|\n",
            "|    min|                0|              100|Aaron Addesso|female|   1899-08-28|\n",
            "|    max|            99999|           100099|  Zulma Biggs|  male|   2084-11-17|\n",
            "+-------+-----------------+-----------------+-------------+------+-------------+\n",
            "\n",
            "None\n",
            "+-------+--------+------------------+\n",
            "|summary|    Name|               Age|\n",
            "+-------+--------+------------------+\n",
            "|  count|       7|                 7|\n",
            "|   mean|    null|24.428571428571427|\n",
            "| stddev|    null| 5.094347941825426|\n",
            "|    min|Jennifer|                20|\n",
            "|    max|    Mona|                34|\n",
            "+-------+--------+------------------+\n",
            "\n",
            "None\n"
          ],
          "name": "stdout"
        },
        {
          "output_type": "display_data",
          "data": {
            "text/plain": [
              "['_c0', 'person_id', 'name', 'sex', 'date of birth']"
            ]
          },
          "metadata": {
            "tags": []
          }
        }
      ]
    },
    {
      "cell_type": "code",
      "metadata": {
        "colab": {
          "base_uri": "https://localhost:8080/"
        },
        "id": "ZWKDbrYoLhFI",
        "outputId": "17a43928-0ca5-4443-857c-93d084ab789f"
      },
      "source": [
        "### Using SQL ### ต้อง register ตารางลงใน catalog ก่อน\r\n",
        "RDD = sc.parallelize([(\"XS\", 2018, 5.65, 2.79, 6.24),(\"XR\", 2018, 5.94, 2.98, 6.84),(\"X10\", 2017, 5.65, 2.79, 6.13),(\"8Plus\", 2017, 6.23, 3.07, 7.12)])\r\n",
        "names = ['Model', 'Year', 'Height', 'Width', 'Weight']\r\n",
        "sdf = spark.createDataFrame(RDD, schema=names)\r\n",
        "\r\n",
        "sdf.createOrReplaceTempView('iphones')\r\n",
        "sdf_csv.createOrReplaceTempView(\"people\")\r\n",
        "\r\n",
        "# ตรวจสอบว่ามีตารางอะไรใน แคตตาล็อกบ้าง SparkSession ทำหน้าที่เหมือนเป็น Database\r\n",
        "print(spark.catalog.listTables())\r\n",
        "\r\n",
        "# ใช้ SQL queries\r\n",
        "spark.sql(\"SELECT Year, AVG(Height) FROM iphones GROUP BY Year\").show()\r\n",
        "\r\n",
        "print(\"Using spark.sql\")\r\n",
        "spark.sql(\"SELECT Year, Model FROM iphones WHERE Year < 2018\").show()\r\n",
        "print(\"Using spark dataframe .filter\")\r\n",
        "sdf.select(\"Year\", \"Model\").filter(\"Year < 2018\").show()\r\n",
        "\r\n",
        "spark.sql(\"SELECT sex, MAX(person_id) FROM people GROUP BY sex\").show()\r\n",
        "spark.sql(\"SELECT person_id, name FROM people WHERE person_id = 101\").show()\r\n",
        "spark.sql(\"SELECT person_id, name FROM people WHERE person_id = 101 OR person_id = 103\").show()\r\n",
        "spark.sql(\"SELECT sex, name FROM people WHERE sex = 'female'\").show(4)"
      ],
      "execution_count": null,
      "outputs": [
        {
          "output_type": "stream",
          "text": [
            "[Table(name='iphones', database=None, description=None, tableType='TEMPORARY', isTemporary=True), Table(name='people', database=None, description=None, tableType='TEMPORARY', isTemporary=True)]\n",
            "+----+-----------+\n",
            "|Year|avg(Height)|\n",
            "+----+-----------+\n",
            "|2018|      5.795|\n",
            "|2017|       5.94|\n",
            "+----+-----------+\n",
            "\n",
            "Using spark.sql\n",
            "+----+-----+\n",
            "|Year|Model|\n",
            "+----+-----+\n",
            "|2017|  X10|\n",
            "|2017|8Plus|\n",
            "+----+-----+\n",
            "\n",
            "Using spark dataframe .filter\n",
            "+----+-----+\n",
            "|Year|Model|\n",
            "+----+-----+\n",
            "|2017|  X10|\n",
            "|2017|8Plus|\n",
            "+----+-----+\n",
            "\n",
            "+------+--------------+\n",
            "|   sex|max(person_id)|\n",
            "+------+--------------+\n",
            "|  null|        100009|\n",
            "|female|        100098|\n",
            "|  male|        100099|\n",
            "+------+--------------+\n",
            "\n",
            "+---------+-------------+\n",
            "|person_id|         name|\n",
            "+---------+-------------+\n",
            "|      101|David Anthony|\n",
            "+---------+-------------+\n",
            "\n",
            "+---------+-------------+\n",
            "|person_id|         name|\n",
            "+---------+-------------+\n",
            "|      101|David Anthony|\n",
            "|      103| Joanna Moore|\n",
            "+---------+-------------+\n",
            "\n",
            "+------+--------------+\n",
            "|   sex|          name|\n",
            "+------+--------------+\n",
            "|female|Penelope Lewis|\n",
            "|female|     Ida Shipp|\n",
            "|female|  Joanna Moore|\n",
            "|female|Lisandra Ortiz|\n",
            "+------+--------------+\n",
            "only showing top 4 rows\n",
            "\n"
          ],
          "name": "stdout"
        }
      ]
    },
    {
      "cell_type": "code",
      "metadata": {
        "id": "3JMKPOyhL09m",
        "colab": {
          "base_uri": "https://localhost:8080/",
          "height": 265
        },
        "outputId": "7d018258-f008-40be-84e2-61b77980766f"
      },
      "source": [
        "## Visualizations using pyspark_dist_explore  \r\n",
        "\r\n",
        "import matplotlib.pyplot as plt\r\n",
        "# from pyspark import SparkContext\r\n",
        "# from pyspark.sql import SparkSession\r\n",
        "# sc = SparkContext()\r\n",
        "# spark = SparkSession.builder.getOrCreate()\r\n",
        "# !pip install handyspark\r\n",
        "from pyspark_dist_explore import hist, distplot, pandas_histogram\r\n",
        "test_df = spark.read.csv(\"Fifa2018.csv\", header=True, inferSchema=True)\r\n",
        "fig, ax = plt.subplots()\r\n",
        "test_df_age = test_df.select(\"Age\")\r\n",
        "hist(ax, test_df_age, bins=20, color=\"red\")\r\n",
        "plt.show()\r\n"
      ],
      "execution_count": null,
      "outputs": [
        {
          "output_type": "display_data",
          "data": {
            "image/png": "[encoded data removed]",
            "text/plain": [
              "<Figure size 432x288 with 1 Axes>"
            ]
          },
          "metadata": {
            "tags": [],
            "needs_background": "light"
          }
        }
      ]
    },
    {
      "cell_type": "code",
      "metadata": {
        "colab": {
          "base_uri": "https://localhost:8080/",
          "height": 281
        },
        "id": "0Z6FDkhX-0S9",
        "outputId": "1552882f-dacc-4f0b-df63-3ca742f7ca41"
      },
      "source": [
        "## Visualizations using .toPandas()\r\n",
        "\r\n",
        "import matplotlib.pyplot as plt\r\n",
        "test_df = spark.read.csv(\"Fifa2018.csv\", header=True, inferSchema=True)\r\n",
        "test_df_pandas = test_df.toPandas()\r\n",
        "test_df_pandas.hist(\"Age\", bins=20, color=\"red\")\r\n",
        "plt.show()"
      ],
      "execution_count": null,
      "outputs": [
        {
          "output_type": "display_data",
          "data": {
            "image/png": "[encoded data removed]",
            "text/plain": [
              "<Figure size 432x288 with 1 Axes>"
            ]
          },
          "metadata": {
            "tags": [],
            "needs_background": "light"
          }
        }
      ]
    },
    {
      "cell_type": "code",
      "metadata": {
        "colab": {
          "base_uri": "https://localhost:8080/",
          "height": 295
        },
        "id": "GzLBBDO-DKV0",
        "outputId": "d77363b1-29b3-49f1-c895-f78b2c61a99f"
      },
      "source": [
        "## Visualizations using Handy Spark\r\n",
        "import handyspark\r\n",
        "import matplotlib.pyplot as plt\r\n",
        "\r\n",
        "test_df = spark.read.csv(\"Fifa2018.csv\", header=True, inferSchema=True)\r\n",
        "fig, ax = plt.subplots()\r\n",
        "hdf = test_df.toHandy()\r\n",
        "hdf.cols[\"Age\"].hist(bins=20, ax=ax)\r\n",
        "\r\n",
        "plt.show()\r\n"
      ],
      "execution_count": null,
      "outputs": [
        {
          "output_type": "display_data",
          "data": {
            "image/png": "[encoded data removed]",
            "text/plain": [
              "<Figure size 432x288 with 1 Axes>"
            ]
          },
          "metadata": {
            "tags": [],
            "needs_background": "light"
          }
        }
      ]
    },
    {
      "cell_type": "code",
      "metadata": {
        "id": "_CTigRVFyuY8"
      },
      "source": [
        "## ML With PySpark\r\n",
        "\r\n",
        "from pyspark.mllib.recommendation import ALS, Rating\r\n",
        "from pyspark.mllib.classification import LogisticRegressionWithLBFGS\r\n",
        "from pyspark.mllib.clustering import KMeans"
      ],
      "execution_count": null,
      "outputs": []
    },
    {
      "cell_type": "code",
      "metadata": {
        "colab": {
          "base_uri": "https://localhost:8080/",
          "height": 50
        },
        "id": "0KO_0f-FtTW-",
        "outputId": "16d19bf8-1160-466a-95cc-52ff5f7e82b4"
      },
      "source": [
        "### Collaborative Filtering ###\r\n",
        "\r\n",
        "### Rating function\r\n",
        "r = Rating(user=1, product=2, rating=5.0)\r\n",
        "display((r[0], r[1], r[2]))\r\n",
        "display(r)"
      ],
      "execution_count": null,
      "outputs": [
        {
          "output_type": "display_data",
          "data": {
            "text/plain": [
              "(1, 2, 5.0)"
            ]
          },
          "metadata": {
            "tags": []
          }
        },
        {
          "output_type": "display_data",
          "data": {
            "text/plain": [
              "Rating(user=1, product=2, rating=5.0)"
            ]
          },
          "metadata": {
            "tags": []
          }
        }
      ]
    },
    {
      "cell_type": "code",
      "metadata": {
        "colab": {
          "base_uri": "https://localhost:8080/"
        },
        "id": "BBdHuaeFtjNT",
        "outputId": "84426b1b-fcfe-420a-b824-314573329f4c"
      },
      "source": [
        "### Splitting train, test data using .randomSplit ###\r\n",
        "\r\n",
        "train, test = sc.parallelize(range(1, 11)).randomSplit([0.6, 0.4])\r\n",
        "print(train.collect(), test.collect())\r\n"
      ],
      "execution_count": null,
      "outputs": [
        {
          "output_type": "stream",
          "text": [
            "[1, 2, 3, 4, 5, 7, 8] [6, 9, 10]\n"
          ],
          "name": "stdout"
        }
      ]
    },
    {
      "cell_type": "code",
      "metadata": {
        "colab": {
          "base_uri": "https://localhost:8080/",
          "height": 168
        },
        "id": "pFqHUx9RuNXc",
        "outputId": "ba097f0c-112f-4408-895d-a3f6e4fd7807"
      },
      "source": [
        "### Alternating Least Squares (ALS)\r\n",
        "\r\n",
        "r1 = Rating(1, 1, 1.0)\r\n",
        "r2 = Rating(1, 2, 2.0)\r\n",
        "r3 = Rating(2, 1, 2.0)\r\n",
        "ratings = sc.parallelize([r1, r2, r3])\r\n",
        "print(ratings.collect())\r\n",
        "\r\n",
        "# Train data\r\n",
        "# rank คือจำนวน features คืออะไรหว่า ?\r\n",
        "model = ALS.train(ratings, rank=10, iterations=10)\r\n",
        "\r\n",
        "# .predictAll()\r\n",
        "# test_RDD คือ tuples of user_id และ product_id\r\n",
        "test_RDD = sc.parallelize([(1, 2), (1, 1), (2, 1), (2, 2)])\r\n",
        "display(model.predictAll(test_RDD).collect())\r\n",
        "for r in model.predictAll(test_RDD).collect():\r\n",
        "    print(f'User{r[0]} has predicted rating for product {r[1]} = {r[2]}')"
      ],
      "execution_count": null,
      "outputs": [
        {
          "output_type": "stream",
          "text": [
            "[Rating(user=1, product=1, rating=1.0), Rating(user=1, product=2, rating=2.0), Rating(user=2, product=1, rating=2.0)]\n"
          ],
          "name": "stdout"
        },
        {
          "output_type": "display_data",
          "data": {
            "text/plain": [
              "[Rating(user=2, product=2, rating=0.8549055859367425),\n",
              " Rating(user=2, product=1, rating=1.9953338331218717),\n",
              " Rating(user=1, product=2, rating=1.9890383014300776),\n",
              " Rating(user=1, product=1, rating=1.0000194126028232)]"
            ]
          },
          "metadata": {
            "tags": []
          }
        },
        {
          "output_type": "stream",
          "text": [
            "User2 has predicted rating for product 2 = 0.8549055859367425\n",
            "User2 has predicted rating for product 1 = 1.9953338331218717\n",
            "User1 has predicted rating for product 2 = 1.9890383014300776\n",
            "User1 has predicted rating for product 1 = 1.0000194126028232\n"
          ],
          "name": "stdout"
        }
      ]
    },
    {
      "cell_type": "code",
      "metadata": {
        "colab": {
          "base_uri": "https://localhost:8080/",
          "height": 101
        },
        "id": "Q6_cqEYKUnmW",
        "outputId": "f533a305-d88d-45bc-d1bc-e8b8b1230e2c"
      },
      "source": [
        "# ใช้ map ทำให้เป็น tuples เสียก่อน โดย x[0] = user, x[1] = product, x[2] = rating\r\n",
        "rates = ratings.map(lambda x: ((x[0], x[1]), x[2]))\r\n",
        "preds = model.predictAll(test_RDD).map(lambda x: ((x[0], x[1]), x[2]))\r\n",
        "\r\n",
        "# join เพื่อให้ตัวที่ซ้ำกันใน rates และ preds อยู่รวมกัน \r\n",
        "rates_preds = rates.join(preds)\r\n",
        "\r\n",
        "# ทำความเข้าใจกับ rates_preds.collect() ดีๆ\r\n",
        "# มัน join เฉพาะคู่ลำดับที่ซ้ำ ซึ่ง (2, 2) ใน test_RDD มันไม่มีซ้ำ เลยหายไป\r\n",
        "# x[0] คือ คู่ลำดับของ (user, product) \r\n",
        "# x[1] คือ คู่ลำดับของ (คะแนนจริง, คะแนนพยากรณ์)\r\n",
        "display(rates_preds.collect())\r\n",
        "display(rates_preds.map(lambda x: (x[1][0]-x[1][1])).collect())\r\n",
        "a = rates_preds.map(lambda x: (x[1][0]-x[1][1])).collect()\r\n",
        "(a[0]**2+a[1]**2+a[2]**2)/3"
      ],
      "execution_count": null,
      "outputs": [
        {
          "output_type": "display_data",
          "data": {
            "text/plain": [
              "[((1, 1), (1.0, 1.0000194126028232)),\n",
              " ((1, 2), (2.0, 1.9890383014300776)),\n",
              " ((2, 1), (2.0, 1.9953338331218717))]"
            ]
          },
          "metadata": {
            "tags": []
          }
        },
        {
          "output_type": "display_data",
          "data": {
            "text/plain": [
              "[-1.9412602823232206e-05, 0.010961698569922351, 0.004666166878128264]"
            ]
          },
          "metadata": {
            "tags": []
          }
        },
        {
          "output_type": "execute_result",
          "data": {
            "text/plain": [
              "4.731077524050913e-05"
            ]
          },
          "metadata": {
            "tags": []
          },
          "execution_count": 28
        }
      ]
    },
    {
      "cell_type": "code",
      "metadata": {
        "colab": {
          "base_uri": "https://localhost:8080/"
        },
        "id": "AAs_YA45w2pz",
        "outputId": "803e11a7-30dd-43d7-cc21-a2cc8c8f9ac8"
      },
      "source": [
        "### MSE ###\r\n",
        "rates = ratings.map(lambda x: ((x[0], x[1]), x[2]))\r\n",
        "preds = model.predictAll(test_RDD).map(lambda x: ((x[0], x[1]), x[2]))\r\n",
        "\r\n",
        "# join เพื่อให้ตัวที่ซ้ำกันใน rates และ preds อยู่รวมกัน \r\n",
        "rates_preds = rates.join(preds)\r\n",
        "MSE = rates_preds.map(lambda x: (x[1][0]-x[1][1])**2).mean()\r\n",
        "\r\n",
        "\r\n",
        "print(ratings.collect())\r\n",
        "print(rates.collect())\r\n",
        "print(preds.collect())\r\n",
        "print(rates_preds.collect())\r\n",
        "print(f'MSE1 = {MSE}')  "
      ],
      "execution_count": null,
      "outputs": [
        {
          "output_type": "stream",
          "text": [
            "[Rating(user=1, product=1, rating=1.0), Rating(user=1, product=2, rating=2.0), Rating(user=2, product=1, rating=2.0)]\n",
            "[((1, 1), 1.0), ((1, 2), 2.0), ((2, 1), 2.0)]\n",
            "[((2, 2), 0.8549055859367425), ((2, 1), 1.9953338331218717), ((1, 2), 1.9890383014300776), ((1, 1), 1.0000194126028232)]\n",
            "[((1, 1), (1.0, 1.0000194126028232)), ((1, 2), (2.0, 1.9890383014300776)), ((2, 1), (2.0, 1.9953338331218717))]\n",
            "MSE1 = 4.731077524050913e-05\n"
          ],
          "name": "stdout"
        }
      ]
    },
    {
      "cell_type": "code",
      "metadata": {
        "colab": {
          "base_uri": "https://localhost:8080/",
          "height": 319
        },
        "id": "dR9h8ukcy8RN",
        "outputId": "d179bbe7-565e-4e94-d5b5-ce9bdb2f2438"
      },
      "source": [
        "### Building Recommendation\r\n",
        "from pyspark.mllib.recommendation import ALS, Rating\r\n",
        "# Load the data into RDD\r\n",
        "data = sc.textFile(\"ratings.csv\")\r\n",
        "print(f'data is type {type(data)}')\r\n",
        "display(data.take(5))\r\n",
        "\r\n",
        "# Split the RDD \r\n",
        "print(\"data.map(lambda l: l.split(','))\")\r\n",
        "ratings = data.map(lambda l: l.split(','))\r\n",
        "display(ratings.take(5))\r\n",
        "\r\n",
        "# Transform the ratings RDD \r\n",
        "ratings_final = ratings.map(lambda line: Rating(int(line[0]), int(line[1]), float(line[2])))\r\n",
        "display(ratings_final.take(5))\r\n",
        "\r\n",
        "# Split the data into training and test\r\n",
        "training_data, test_data = ratings_final.randomSplit([0.8, 0.2])\r\n",
        "\r\n",
        "# Create the ALS model on the training data สรุป rank คืออะไร ก็ยังไม่รู้\r\n",
        "model = ALS.train(training_data, rank=10, iterations=10)\r\n",
        "\r\n",
        "# Drop the ratings column ในที่นี้ test_data เป็น RDD จึงใช้ method drop แบบ spark.dataframe ไม่ได้\r\n",
        "testdata_no_rating = test_data.map(lambda p: (p[0], p[1]))\r\n",
        "\r\n",
        "# Predict the model  \r\n",
        "predictions = model.predictAll(testdata_no_rating)\r\n",
        "\r\n",
        "# Prepare ratings data\r\n",
        "rates = ratings_final.map(lambda r: ((r[0], r[1]), r[2]))\r\n",
        "\r\n",
        "# Prepare predictions data\r\n",
        "preds = predictions.map(lambda r: ((r[0], r[1]), r[2]))\r\n",
        "\r\n",
        "# Join the ratings data with predictions data\r\n",
        "rates_and_preds = rates.join(preds)\r\n",
        "\r\n",
        "# Calculate and print MSE\r\n",
        "MSE = rates_and_preds.map(lambda r: (r[1][0] - r[1][1])**2).mean()\r\n",
        "print(\"Mean Squared Error of the model for the test data = {:.2f}\".format(MSE))"
      ],
      "execution_count": null,
      "outputs": [
        {
          "output_type": "stream",
          "text": [
            "data is type <class 'pyspark.rdd.RDD'>\n"
          ],
          "name": "stdout"
        },
        {
          "output_type": "display_data",
          "data": {
            "text/plain": [
              "['1,31,2.5,1260759144',\n",
              " '1,1029,3.0,1260759179',\n",
              " '1,1061,3.0,1260759182',\n",
              " '1,1129,2.0,1260759185',\n",
              " '1,1172,4.0,1260759205']"
            ]
          },
          "metadata": {
            "tags": []
          }
        },
        {
          "output_type": "stream",
          "text": [
            "data.map(lambda l: l.split(','))\n"
          ],
          "name": "stdout"
        },
        {
          "output_type": "display_data",
          "data": {
            "text/plain": [
              "[['1', '31', '2.5', '1260759144'],\n",
              " ['1', '1029', '3.0', '1260759179'],\n",
              " ['1', '1061', '3.0', '1260759182'],\n",
              " ['1', '1129', '2.0', '1260759185'],\n",
              " ['1', '1172', '4.0', '1260759205']]"
            ]
          },
          "metadata": {
            "tags": []
          }
        },
        {
          "output_type": "display_data",
          "data": {
            "text/plain": [
              "[Rating(user=1, product=31, rating=2.5),\n",
              " Rating(user=1, product=1029, rating=3.0),\n",
              " Rating(user=1, product=1061, rating=3.0),\n",
              " Rating(user=1, product=1129, rating=2.0),\n",
              " Rating(user=1, product=1172, rating=4.0)]"
            ]
          },
          "metadata": {
            "tags": []
          }
        },
        {
          "output_type": "stream",
          "text": [
            "Mean Squared Error of the model for the test data = 1.33\n"
          ],
          "name": "stdout"
        }
      ]
    },
    {
      "cell_type": "code",
      "metadata": {
        "id": "DgRyGZwAVrBG",
        "colab": {
          "base_uri": "https://localhost:8080/",
          "height": 1000
        },
        "outputId": "0a3a0f30-50a2-4a97-e5be-49ecfd18d8a3"
      },
      "source": [
        "### Logistic Regression ###\r\n",
        "from numpy import arange\r\n",
        "from pyspark.ml.feature import StringIndexer, OneHotEncoder, VectorAssembler\r\n",
        "from pyspark.ml import Pipeline\r\n",
        "from pyspark.sql import SparkSession\r\n",
        "from pyspark.sql.types import IntegerType\r\n",
        "from pyspark.ml.classification import LogisticRegression\r\n",
        "from pyspark.ml.evaluation import BinaryClassificationEvaluator\r\n",
        "from pyspark.ml.tuning import ParamGridBuilder, CrossValidator\r\n",
        "\r\n",
        "spark = SparkSession.builder.getOrCreate()\r\n",
        "\r\n",
        "# Load data\r\n",
        "flights = spark.read.csv('flights_small.csv', header=True, inferSchema=True)\r\n",
        "planes = spark.read.csv('planes.csv', header=True, inferSchema=True)\r\n",
        "print('FLIGHT DATA')\r\n",
        "display(flights.show(3))\r\n",
        "print(\"PLANES DATA\")\r\n",
        "display(planes.show(3))\r\n",
        "\r\n",
        "# Rename year column เพราะว่า year ใน planes_data เป็นปีที่ผลิต \r\n",
        "planes = planes.withColumnRenamed(\"year\", \"plane_year\")\r\n",
        "print(\"CHANGE TO PLANE YEAR PLANES DATA\")\r\n",
        "display(planes.show(3))\r\n",
        "\r\n",
        "# Join the DataFrames\r\n",
        "model_data = flights.join(planes, on=\"tailnum\", how=\"leftouter\")\r\n",
        "\r\n",
        "# เปลี่ยนค่าให้เป็นจำนวนเต็ม\r\n",
        "model_data = model_data.withColumn(\"arr_delay\", model_data[\"arr_delay\"].cast(\"integer\"))\r\n",
        "model_data = model_data.withColumn(\"air_time\", model_data[\"air_time\"].cast(\"integer\"))\r\n",
        "model_data = model_data.withColumn(\"month\", model_data[\"month\"].cast(\"integer\"))\r\n",
        "model_data = model_data.withColumn(\"plane_year\", model_data[\"plane_year\"].cast(\"integer\"))\r\n",
        "\r\n",
        "# Create binary identification\r\n",
        "model_data = model_data.withColumn(\"is_late\", model_data[\"arr_delay\"] > 0)\r\n",
        "# Convert to an integer \r\n",
        "### คำว่า label สำคัญมาก!!!!!! this is the default name for the response variable in Spark's machine learning routines\r\n",
        "model_data = model_data.withColumn(\"label\", model_data[\"is_late\"].cast(\"integer\"))\r\n",
        "# Remove missing values\r\n",
        "model_data = model_data.filter(\"arr_delay is not NULL and dep_delay is not NULL and air_time is not NULL and plane_year is not NULL\")\r\n",
        "\r\n",
        "# เพิ่มคอลัมน์ อายุเครื่องบิน\r\n",
        "model_data = model_data.withColumn(\"plane_age\", model_data[\"year\"]-model_data[\"plane_year\"]) \r\n",
        "display(model_data.show(3))\r\n",
        "\r\n",
        "# ก่อนอื่นต้องทำการแปรค่าของ Categorical variables ให้เป็น One Hot Vector ก่อน\r\n",
        "# Create a StringIndexer\r\n",
        "carr_indexer = StringIndexer(inputCol=\"carrier\", outputCol=\"carrier_index\")\r\n",
        "dest_indexer = StringIndexer(inputCol=\"dest\", outputCol=\"dest_index\")\r\n",
        "\r\n",
        "# Create a OneHotEncoder สังเกตว่า index จะมาเป็น input ของ OneHotEncoder\r\n",
        "carr_encoder = OneHotEncoder(inputCol=\"carrier_index\", outputCol=\"carrier_fact\")\r\n",
        "dest_encoder = OneHotEncoder(inputCol=\"dest_index\", outputCol=\"dest_fact\")\r\n",
        "\r\n",
        "# Make a VectorAssembler ต้องมีในการรวมค่าiuuuuuuuuuuuuuuuuuuuuuuuuuuuuuuuuuuuuuuuuu7777777\r\n",
        "vec_assembler = VectorAssembler(inputCols=[\"month\", \"air_time\", \"carrier_fact\", \"dest_fact\", \"plane_age\"],outputCol=\"features\" )\r\n",
        "\r\n",
        "# Make the pipeline\r\n",
        "flights_pipe = Pipeline(stages=[dest_indexer, dest_encoder, carr_indexer, carr_encoder, vec_assembler])\r\n",
        "\r\n",
        "# Create the DataFrame piped_data by calling the Pipeline methods .fit() and .transform()\r\n",
        "piped_data = flights_pipe.fit(model_data).transform(model_data)\r\n",
        "print(\"PIPED_DATA_AFTER_TRANSFORMATION_USING_ONEHOTENCODER -- SEE HOW NEW COLUMNS dest_index, dest_fact, carrier_index, carrier_fact, and features are added\")\r\n",
        "display(piped_data.show(5))\r\n",
        "\r\n",
        "# Make sure to split data after OneHotEncoder transformation\r\n",
        "training, test = piped_data.randomSplit([0.6, 0.4])\r\n",
        "\r\n",
        "# Create a LogisticRegression called lr by calling LogisticRegression() with no arguments.\r\n",
        "lr = LogisticRegression()\r\n",
        "evaluator = BinaryClassificationEvaluator(metricName=\"areaUnderROC\")\r\n",
        "\r\n",
        "# Looking for optimal hyperparameters\r\n",
        "grid = ParamGridBuilder()\r\n",
        "grid = grid.addGrid(lr.regParam, arange(0, 0.1, 0.01))\r\n",
        "grid = grid.addGrid(lr.elasticNetParam, [0, 1])\r\n",
        "grid = grid.build()\r\n",
        "\r\n",
        "# Make the validator for cross validation (แบ่งตัวอย่างออกเป็นกลุ่มย่อยทำการพยากรณ์กันระหว่างกลุ่ม)\r\n",
        "cv = CrossValidator(estimator=lr, estimatorParamMaps=grid, evaluator=evaluator)\r\n",
        "\r\n",
        "# Fit cross validation models\r\n",
        "models = cv.fit(training)\r\n",
        "\r\n",
        "# Extract the best model\r\n",
        "best_lr = models.bestModel\r\n",
        "best_lr2 = lr.fit(training)\r\n",
        "\r\n",
        "# Evluate the model\r\n",
        "# Use the model to predict the test set\r\n",
        "test_results = best_lr.transform(test)\r\n",
        "test_results2 = best_lr2.transform(test)\r\n",
        "\r\n",
        "# Evaluate the predictions\r\n",
        "print(evaluator.evaluate(test_results))\r\n",
        "print(evaluator.evaluate(test_results2))\r\n",
        "\r\n",
        "# Show prediction\r\n",
        "display(test_results.select(\"is_late\", \"label\", \"prediction\", \"probability\").show(6))\r\n",
        "\r\n",
        "# Cross-check with the evaluator results\r\n",
        "t = test_results.withColumn(\"Correct\", test_results[\"label\"]==test_results[\"prediction\"])\r\n",
        "t = t.withColumn(\"Correct\", t[\"Correct\"].cast(\"Integer\"))\r\n",
        "t = t.select(\"label\",\"Correct\")\r\n",
        "correct = t.rdd.map(lambda x: (1,x[1])).reduceByKey(lambda x,y: x + y).collect()[0][1]\r\n",
        "print(correct/test_results.count())"
      ],
      "execution_count": null,
      "outputs": [
        {
          "output_type": "stream",
          "text": [
            "FLIGHT DATA\n",
            "+----+-----+---+--------+---------+--------+---------+-------+-------+------+------+----+--------+--------+----+------+\n",
            "|year|month|day|dep_time|dep_delay|arr_time|arr_delay|carrier|tailnum|flight|origin|dest|air_time|distance|hour|minute|\n",
            "+----+-----+---+--------+---------+--------+---------+-------+-------+------+------+----+--------+--------+----+------+\n",
            "|2014|   12|  8|     658|       -7|     935|       -5|     VX| N846VA|  1780|   SEA| LAX|     132|     954|   6|    58|\n",
            "|2014|    1| 22|    1040|        5|    1505|        5|     AS| N559AS|   851|   SEA| HNL|     360|    2677|  10|    40|\n",
            "|2014|    3|  9|    1443|       -2|    1652|        2|     VX| N847VA|   755|   SEA| SFO|     111|     679|  14|    43|\n",
            "+----+-----+---+--------+---------+--------+---------+-------+-------+------+------+----+--------+--------+----+------+\n",
            "only showing top 3 rows\n",
            "\n"
          ],
          "name": "stdout"
        },
        {
          "output_type": "display_data",
          "data": {
            "text/plain": [
              "None"
            ]
          },
          "metadata": {
            "tags": []
          }
        },
        {
          "output_type": "stream",
          "text": [
            "PLANES DATA\n",
            "+-------+----+--------------------+----------------+--------+-------+-----+-----+---------+\n",
            "|tailnum|year|                type|    manufacturer|   model|engines|seats|speed|   engine|\n",
            "+-------+----+--------------------+----------------+--------+-------+-----+-----+---------+\n",
            "| N102UW|1998|Fixed wing multi ...|AIRBUS INDUSTRIE|A320-214|      2|  182|   NA|Turbo-fan|\n",
            "| N103US|1999|Fixed wing multi ...|AIRBUS INDUSTRIE|A320-214|      2|  182|   NA|Turbo-fan|\n",
            "| N104UW|1999|Fixed wing multi ...|AIRBUS INDUSTRIE|A320-214|      2|  182|   NA|Turbo-fan|\n",
            "+-------+----+--------------------+----------------+--------+-------+-----+-----+---------+\n",
            "only showing top 3 rows\n",
            "\n"
          ],
          "name": "stdout"
        },
        {
          "output_type": "display_data",
          "data": {
            "text/plain": [
              "None"
            ]
          },
          "metadata": {
            "tags": []
          }
        },
        {
          "output_type": "stream",
          "text": [
            "CHANGE TO PLANE YEAR PLANES DATA\n",
            "+-------+----------+--------------------+----------------+--------+-------+-----+-----+---------+\n",
            "|tailnum|plane_year|                type|    manufacturer|   model|engines|seats|speed|   engine|\n",
            "+-------+----------+--------------------+----------------+--------+-------+-----+-----+---------+\n",
            "| N102UW|      1998|Fixed wing multi ...|AIRBUS INDUSTRIE|A320-214|      2|  182|   NA|Turbo-fan|\n",
            "| N103US|      1999|Fixed wing multi ...|AIRBUS INDUSTRIE|A320-214|      2|  182|   NA|Turbo-fan|\n",
            "| N104UW|      1999|Fixed wing multi ...|AIRBUS INDUSTRIE|A320-214|      2|  182|   NA|Turbo-fan|\n",
            "+-------+----------+--------------------+----------------+--------+-------+-----+-----+---------+\n",
            "only showing top 3 rows\n",
            "\n"
          ],
          "name": "stdout"
        },
        {
          "output_type": "display_data",
          "data": {
            "text/plain": [
              "None"
            ]
          },
          "metadata": {
            "tags": []
          }
        },
        {
          "output_type": "stream",
          "text": [
            "+-------+----+-----+---+--------+---------+--------+---------+-------+------+------+----+--------+--------+----+------+----------+--------------------+------------+--------+-------+-----+-----+---------+-------+-----+---------+\n",
            "|tailnum|year|month|day|dep_time|dep_delay|arr_time|arr_delay|carrier|flight|origin|dest|air_time|distance|hour|minute|plane_year|                type|manufacturer|   model|engines|seats|speed|   engine|is_late|label|plane_age|\n",
            "+-------+----+-----+---+--------+---------+--------+---------+-------+------+------+----+--------+--------+----+------+----------+--------------------+------------+--------+-------+-----+-----+---------+-------+-----+---------+\n",
            "| N846VA|2014|   12|  8|     658|       -7|     935|       -5|     VX|  1780|   SEA| LAX|     132|     954|   6|    58|      2011|Fixed wing multi ...|      AIRBUS|A320-214|      2|  182|   NA|Turbo-fan|  false|    0|        3|\n",
            "| N559AS|2014|    1| 22|    1040|        5|    1505|        5|     AS|   851|   SEA| HNL|     360|    2677|  10|    40|      2006|Fixed wing multi ...|      BOEING| 737-890|      2|  149|   NA|Turbo-fan|   true|    1|        8|\n",
            "| N847VA|2014|    3|  9|    1443|       -2|    1652|        2|     VX|   755|   SEA| SFO|     111|     679|  14|    43|      2011|Fixed wing multi ...|      AIRBUS|A320-214|      2|  182|   NA|Turbo-fan|   true|    1|        3|\n",
            "+-------+----+-----+---+--------+---------+--------+---------+-------+------+------+----+--------+--------+----+------+----------+--------------------+------------+--------+-------+-----+-----+---------+-------+-----+---------+\n",
            "only showing top 3 rows\n",
            "\n"
          ],
          "name": "stdout"
        },
        {
          "output_type": "display_data",
          "data": {
            "text/plain": [
              "None"
            ]
          },
          "metadata": {
            "tags": []
          }
        },
        {
          "output_type": "stream",
          "text": [
            "PIPED_DATA_AFTER_TRANSFORMATION_USING_ONEHOTENCODER -- SEE HOW NEW COLUMNS dest_index, dest_fact, carrier_index, carrier_fact, and features are added\n",
            "+-------+----+-----+---+--------+---------+--------+---------+-------+------+------+----+--------+--------+----+------+----------+--------------------+------------+--------+-------+-----+-----+---------+-------+-----+---------+----------+---------------+-------------+--------------+--------------------+\n",
            "|tailnum|year|month|day|dep_time|dep_delay|arr_time|arr_delay|carrier|flight|origin|dest|air_time|distance|hour|minute|plane_year|                type|manufacturer|   model|engines|seats|speed|   engine|is_late|label|plane_age|dest_index|      dest_fact|carrier_index|  carrier_fact|            features|\n",
            "+-------+----+-----+---+--------+---------+--------+---------+-------+------+------+----+--------+--------+----+------+----------+--------------------+------------+--------+-------+-----+-----+---------+-------+-----+---------+----------+---------------+-------------+--------------+--------------------+\n",
            "| N846VA|2014|   12|  8|     658|       -7|     935|       -5|     VX|  1780|   SEA| LAX|     132|     954|   6|    58|      2011|Fixed wing multi ...|      AIRBUS|A320-214|      2|  182|   NA|Turbo-fan|  false|    0|        3|       1.0| (68,[1],[1.0])|          7.0|(10,[7],[1.0])|(81,[0,1,9,13,80]...|\n",
            "| N559AS|2014|    1| 22|    1040|        5|    1505|        5|     AS|   851|   SEA| HNL|     360|    2677|  10|    40|      2006|Fixed wing multi ...|      BOEING| 737-890|      2|  149|   NA|Turbo-fan|   true|    1|        8|      19.0|(68,[19],[1.0])|          0.0|(10,[0],[1.0])|(81,[0,1,2,31,80]...|\n",
            "| N847VA|2014|    3|  9|    1443|       -2|    1652|        2|     VX|   755|   SEA| SFO|     111|     679|  14|    43|      2011|Fixed wing multi ...|      AIRBUS|A320-214|      2|  182|   NA|Turbo-fan|   true|    1|        3|       0.0| (68,[0],[1.0])|          7.0|(10,[7],[1.0])|(81,[0,1,9,12,80]...|\n",
            "| N360SW|2014|    4|  9|    1705|       45|    1839|       34|     WN|   344|   PDX| SJC|      83|     569|  17|     5|      1992|Fixed wing multi ...|      BOEING| 737-3H4|      2|  149|   NA|Turbo-fan|   true|    1|       22|       7.0| (68,[7],[1.0])|          1.0|(10,[1],[1.0])|(81,[0,1,3,19,80]...|\n",
            "| N612AS|2014|    3|  9|     754|       -1|    1015|        1|     AS|   522|   SEA| BUR|     127|     937|   7|    54|      1999|Fixed wing multi ...|      BOEING| 737-790|      2|  151|   NA|Turbo-jet|   true|    1|       15|      22.0|(68,[22],[1.0])|          0.0|(10,[0],[1.0])|(81,[0,1,2,34,80]...|\n",
            "+-------+----+-----+---+--------+---------+--------+---------+-------+------+------+----+--------+--------+----+------+----------+--------------------+------------+--------+-------+-----+-----+---------+-------+-----+---------+----------+---------------+-------------+--------------+--------------------+\n",
            "only showing top 5 rows\n",
            "\n"
          ],
          "name": "stdout"
        },
        {
          "output_type": "display_data",
          "data": {
            "text/plain": [
              "None"
            ]
          },
          "metadata": {
            "tags": []
          }
        },
        {
          "output_type": "stream",
          "text": [
            "0.6906980037511995\n",
            "0.6906980037511995\n",
            "+-------+-----+----------+--------------------+\n",
            "|is_late|label|prediction|         probability|\n",
            "+-------+-----+----------+--------------------+\n",
            "|  false|    0|       0.0|[0.52861261866773...|\n",
            "|  false|    0|       0.0|[0.57858761434370...|\n",
            "|   true|    1|       1.0|[0.35397660343458...|\n",
            "|  false|    0|       1.0|[0.49199657443205...|\n",
            "|   true|    1|       1.0|[0.37066969021019...|\n",
            "|  false|    0|       0.0|[0.61621551222800...|\n",
            "+-------+-----+----------+--------------------+\n",
            "only showing top 6 rows\n",
            "\n"
          ],
          "name": "stdout"
        },
        {
          "output_type": "display_data",
          "data": {
            "text/plain": [
              "None"
            ]
          },
          "metadata": {
            "tags": []
          }
        },
        {
          "output_type": "stream",
          "text": [
            "0.6824161073825503\n"
          ],
          "name": "stdout"
        }
      ]
    },
    {
      "cell_type": "code",
      "metadata": {
        "colab": {
          "base_uri": "https://localhost:8080/",
          "height": 370
        },
        "id": "0kWhwyTg0HZZ",
        "outputId": "57f1c1de-41b1-4914-edee-1733967f9226"
      },
      "source": [
        "### Classification ###\r\n",
        "from pyspark.mllib.linalg import Vectors\r\n",
        "from pyspark.mllib.regression import LabeledPoint\r\n",
        "from pyspark.mllib.feature import HashingTF\r\n",
        "from pyspark.mllib.classification import LogisticRegressionWithLBFGS\r\n",
        "\r\n",
        "denseVec = Vectors.dense([1.0, 2.0, 3.0])\r\n",
        "sparseVec = Vectors.sparse(4, {1: 1.0, 3: 5.5})\r\n",
        "positive = LabeledPoint(1.0, [1.0, 0.0, 3.0])\r\n",
        "negative = LabeledPoint(0.0, [2.0, 1.0, 1.0])\r\n",
        "data = [positive, negative]\r\n",
        "RDD = sc.parallelize(data)\r\n",
        "lrm = LogisticRegressionWithLBFGS.train(RDD)\r\n",
        "\r\n",
        "print(f'denseVec = {denseVec}')\r\n",
        "print(f'sparseVec = {sparseVec}, \\n')\r\n",
        "print(f'positive labeled point = {positive}')\r\n",
        "print(f'negative labeled point = {negative}, \\n')\r\n",
        "\r\n",
        "\r\n",
        "# Hashing TF หลักการเดียวกันกับ OneHotEncoder ทำ SparseVector ออกมา\r\n",
        "words = \"Fuck you asshole\".split()\r\n",
        "words2 = \"hello hello hello hello world\".split()\r\n",
        "tf = HashingTF(10000)\r\n",
        "print(f'words = {words}')\r\n",
        "print(f'words2 = {words2}, \\n')\r\n",
        "print(f'tf.transform(words) = ')\r\n",
        "display(tf.transform(words)); print(\"\\n\")\r\n",
        "print(f'tf.transform(words2) = ')\r\n",
        "display(tf.transform(words2)); print(\"\\n\")\r\n",
        "\r\n",
        "print(f'RDD = '); display(RDD.collect())\r\n",
        "print(lrm.predict([1.0, 0.0, 1.0]))\r\n",
        "print(lrm.predict([2.0, 0.0, 1.0]))"
      ],
      "execution_count": null,
      "outputs": [
        {
          "output_type": "stream",
          "text": [
            "denseVec = [1.0,2.0,3.0]\n",
            "sparseVec = (4,[1,3],[1.0,5.5]), \n",
            "\n",
            "positive labeled point = (1.0,[1.0,0.0,3.0])\n",
            "negative labeled point = (0.0,[2.0,1.0,1.0]), \n",
            "\n",
            "words = ['Fuck', 'you', 'asshole']\n",
            "words2 = ['hello', 'hello', 'hello', 'hello', 'world'], \n",
            "\n",
            "tf.transform(words) = \n"
          ],
          "name": "stdout"
        },
        {
          "output_type": "display_data",
          "data": {
            "text/plain": [
              "SparseVector(10000, {2385: 1.0, 4785: 1.0, 8257: 1.0})"
            ]
          },
          "metadata": {
            "tags": []
          }
        },
        {
          "output_type": "stream",
          "text": [
            "\n",
            "\n",
            "tf.transform(words2) = \n"
          ],
          "name": "stdout"
        },
        {
          "output_type": "display_data",
          "data": {
            "text/plain": [
              "SparseVector(10000, {5007: 4.0, 6680: 1.0})"
            ]
          },
          "metadata": {
            "tags": []
          }
        },
        {
          "output_type": "stream",
          "text": [
            "\n",
            "\n",
            "RDD = \n"
          ],
          "name": "stdout"
        },
        {
          "output_type": "display_data",
          "data": {
            "text/plain": [
              "[LabeledPoint(1.0, [1.0,0.0,3.0]), LabeledPoint(0.0, [2.0,1.0,1.0])]"
            ]
          },
          "metadata": {
            "tags": []
          }
        },
        {
          "output_type": "stream",
          "text": [
            "1\n",
            "0\n"
          ],
          "name": "stdout"
        }
      ]
    },
    {
      "cell_type": "code",
      "metadata": {
        "colab": {
          "base_uri": "https://localhost:8080/",
          "height": 470
        },
        "id": "JT7hGRJt16lM",
        "outputId": "a915c1d4-df1e-457d-8d2b-a56129093ab4"
      },
      "source": [
        "### email spam classifier\r\n",
        "# Load the datasets into RDDs\r\n",
        "spam_rdd = sc.textFile(\"spam.txt\")\r\n",
        "non_spam_rdd = sc.textFile(\"ham.txt\")\r\n",
        "\r\n",
        "# Split the email messages into words\r\n",
        "spam_words = spam_rdd.flatMap(lambda email: email.split(' ')) # ถ้าใช้ map จะไม่แตกคำ มันจะแตกคำอยู่ใน list of list \r\n",
        "non_spam_words = non_spam_rdd.flatMap(lambda email: email.split(' '))\r\n",
        "\r\n",
        "# ตรวจสอบความเข้าใจของ map กับ flatMap ดูจำนวน elements ที่แตกออกมา\r\n",
        "print(f\"spam_rdd.count() = {spam_rdd.count()}\")\r\n",
        "print(f\"spam_rdd.map().count() = {spam_rdd.map(lambda email: email.split(' ')).count()}\")\r\n",
        "print(f\"spam_rdd.map().count() = {spam_rdd.flatMap(lambda email: email.split(' ')).count()}\")\r\n",
        "\r\n",
        "\r\n",
        "# Print the first element in the split RDD\r\n",
        "print(\"The first element in spam_words is\", spam_words.first())\r\n",
        "print(\"The first element in non_spam_words is\", non_spam_words.first(), \"\\n\")\r\n",
        "\r\n",
        "# Create a HashingTf instance with 200 features\r\n",
        "tf = HashingTF(numFeatures=200)\r\n",
        "\r\n",
        "# Map each word to one feature\r\n",
        "spam_features = tf.transform(spam_words)\r\n",
        "non_spam_features = tf.transform(non_spam_words)\r\n",
        "\r\n",
        "# Label the features: 1 for spam, 0 for non-spam\r\n",
        "spam_samples = spam_features.map(lambda features:LabeledPoint(1, features))\r\n",
        "non_spam_samples = non_spam_features.map(lambda features:LabeledPoint(0, features))\r\n",
        "\r\n",
        "# Combine the two datasets\r\n",
        "samples = spam_samples.union(non_spam_samples); print(\"\\n\")\r\n",
        "print(f\"samples has been mapped into LabeledPoint Object: \")\r\n",
        "display(samples.take(5)); print(\"\\n\")\r\n",
        "print(\"samples.map(lambda x: x.features) = \")\r\n",
        "display(samples.map(lambda x: x.features).take(5)); print(\"\\n\")\r\n",
        "print(\"samples.map(lambda x: x.label) = \")\r\n",
        "display(samples.map(lambda x: x.label).take(5)); print(\"\\n\")\r\n",
        "\r\n",
        "# Split the data into training and testing\r\n",
        "train_samples,test_samples = samples.randomSplit([0.8, 0.2])\r\n",
        "\r\n",
        "# Train the model\r\n",
        "model = LogisticRegressionWithLBFGS.train(train_samples)\r\n",
        "\r\n",
        "# Create a prediction label from the test data\r\n",
        "predictions = model.predict(test_samples.map(lambda x: x.features)) # LabeledPoint object มี features, label attributes\r\n",
        "print(\"\\n\")\r\n",
        "display()\r\n",
        "# Combine original labels with the predicted labels\r\n",
        "labels_and_preds = test_samples.map(lambda x: x.label).zip(predictions); print(\"\\n\")\r\n",
        "display\r\n",
        "\r\n",
        "# Check the accuracy of the model on the test data\r\n",
        "accuracy = labels_and_preds.filter(lambda x: x[0] == x[1]).count() / float(test_samples.count())\r\n",
        "print(\"Model accuracy : {:.2f}\".format(accuracy))\r\n"
      ],
      "execution_count": null,
      "outputs": [
        {
          "output_type": "stream",
          "text": [
            "spam_rdd.count() = 747\n",
            "spam_rdd.map().count() = 747\n",
            "spam_rdd.map().count() = 17893\n",
            "The first element in spam_words is You\n",
            "The first element in non_spam_words is Rofl. \n",
            "\n",
            "\n",
            "\n",
            "samples has been mapped into LabeledPoint Object: \n"
          ],
          "name": "stdout"
        },
        {
          "output_type": "display_data",
          "data": {
            "text/plain": [
              "[LabeledPoint(1.0, (200,[103,111,119],[1.0,1.0,1.0])),\n",
              " LabeledPoint(1.0, (200,[14,89,193,199],[1.0,1.0,1.0,1.0])),\n",
              " LabeledPoint(1.0, (200,[82],[1.0])),\n",
              " LabeledPoint(1.0, (200,[83,149,193],[1.0,1.0,1.0])),\n",
              " LabeledPoint(1.0, (200,[1,64,89,162,168,193],[1.0,2.0,1.0,1.0,1.0,2.0]))]"
            ]
          },
          "metadata": {
            "tags": []
          }
        },
        {
          "output_type": "stream",
          "text": [
            "samples.map(lambda x: x.features) = \n"
          ],
          "name": "stdout"
        },
        {
          "output_type": "display_data",
          "data": {
            "text/plain": [
              "[SparseVector(200, {103: 1.0, 111: 1.0, 119: 1.0}),\n",
              " SparseVector(200, {14: 1.0, 89: 1.0, 193: 1.0, 199: 1.0}),\n",
              " SparseVector(200, {82: 1.0}),\n",
              " SparseVector(200, {83: 1.0, 149: 1.0, 193: 1.0}),\n",
              " SparseVector(200, {1: 1.0, 64: 2.0, 89: 1.0, 162: 1.0, 168: 1.0, 193: 2.0})]"
            ]
          },
          "metadata": {
            "tags": []
          }
        },
        {
          "output_type": "stream",
          "text": [
            "\n",
            "\n",
            "samples.map(lambda x: x.label) = \n"
          ],
          "name": "stdout"
        },
        {
          "output_type": "display_data",
          "data": {
            "text/plain": [
              "[1.0, 1.0, 1.0, 1.0, 1.0]"
            ]
          },
          "metadata": {
            "tags": []
          }
        },
        {
          "output_type": "stream",
          "text": [
            "\n",
            "\n",
            "Model accuracy : 0.82\n"
          ],
          "name": "stdout"
        }
      ]
    },
    {
      "cell_type": "code",
      "metadata": {
        "colab": {
          "base_uri": "https://localhost:8080/",
          "height": 106
        },
        "id": "XaGJktHu9V0W",
        "outputId": "478dff03-7f69-4ec6-a254-0e47e7376cb4"
      },
      "source": [
        "cluster_center"
      ],
      "execution_count": 21,
      "outputs": [
        {
          "output_type": "execute_result",
          "data": {
            "text/html": [
              "<div>\n",
              "<style scoped>\n",
              "    .dataframe tbody tr th:only-of-type {\n",
              "        vertical-align: middle;\n",
              "    }\n",
              "\n",
              "    .dataframe tbody tr th {\n",
              "        vertical-align: top;\n",
              "    }\n",
              "\n",
              "    .dataframe thead th {\n",
              "        text-align: right;\n",
              "    }\n",
              "</style>\n",
              "<table border=\"1\" class=\"dataframe\">\n",
              "  <thead>\n",
              "    <tr style=\"text-align: right;\">\n",
              "      <th></th>\n",
              "      <th>col1</th>\n",
              "      <th>col2</th>\n",
              "    </tr>\n",
              "  </thead>\n",
              "  <tbody>\n",
              "    <tr>\n",
              "      <th>0</th>\n",
              "      <td>13.666196</td>\n",
              "      <td>2.435870</td>\n",
              "    </tr>\n",
              "    <tr>\n",
              "      <th>1</th>\n",
              "      <td>12.288605</td>\n",
              "      <td>2.292326</td>\n",
              "    </tr>\n",
              "  </tbody>\n",
              "</table>\n",
              "</div>"
            ],
            "text/plain": [
              "        col1      col2\n",
              "0  13.666196  2.435870\n",
              "1  12.288605  2.292326"
            ]
          },
          "metadata": {
            "tags": []
          },
          "execution_count": 21
        }
      ]
    },
    {
      "cell_type": "code",
      "metadata": {
        "colab": {
          "base_uri": "https://localhost:8080/",
          "height": 802
        },
        "id": "NVYZFhk13nC7",
        "outputId": "1a6dc531-3457-4afb-8959-ebe69d404989"
      },
      "source": [
        "### Clustering ###\r\n",
        "import pandas as pd\r\n",
        "from pyspark.mllib.clustering import KMeans\r\n",
        "import matplotlib.pyplot as plt\r\n",
        "\r\n",
        "# สังเกตว่าใช้ข้อมูลคนชุดเดียวกันแต่คนละแหล่ง จึงเปลี่ยนจาก x[0] เป็น x[2] และ x[2] เป็น x[4]\r\n",
        "RDD = sc.textFile(\"WineData.csv\").map(lambda x: x.split(\",\")).map(lambda x: [float(x[2]), float(x[4])])\r\n",
        "\r\n",
        "print(\"Wine Data RDD\")\r\n",
        "display(RDD.take(5)); print(\"\\n\")\r\n",
        "model = KMeans.train(RDD, k=2, maxIterations=10) # k คือ Number of clusters to create\r\n",
        "print(\"Find cluster centers\")\r\n",
        "display(model.clusterCenters); print(\"\\n\")\r\n",
        "\r\n",
        "# Define function to compute MSE\r\n",
        "from math import sqrt\r\n",
        "def error(point):    \r\n",
        "  center = model.centers[model.predict(point)] # model.centers คือคู่ลำดับของ cluster ส่วน model.predict(point) คือการพยากรณ์ว่า point นั้นๆ จะอยู่ในกลุ่มไหน ในที่นี้มีสองกลุ่ม คือ กลุ่มที่ 0 และ 1\r\n",
        "  return sqrt(sum([x**2for x in (point - center)])) # Euclidean distance\r\n",
        "\r\n",
        "WSSSE = RDD.map(lambda point: error(point)).reduce(lambda x, y: x + y)\r\n",
        "# sum(RDD.map(lambda point: error(point)).collect()) ก็คือผลของ .reduce ด้านบน\r\n",
        "print(\"Within Set Sum of Squared Error = \" + str(WSSSE), \"\\n\")\r\n",
        "\r\n",
        "# Create visualization\r\n",
        "sdf = spark.createDataFrame(RDD, schema=[\"col1\", \"col2\"])\r\n",
        "print(\"spark df represents data points: \")\r\n",
        "pdf = sdf.toPandas()\r\n",
        "display(pdf.head()); print(\"\\n\")\r\n",
        "cluster_center = pd.DataFrame(model.clusterCenters, columns=[\"col1\", \"col2\"])\r\n",
        "print(\"cluster center is just a dataframe of centers\")\r\n",
        "display(cluster_center); print(\"\\n\")\r\n",
        "plt.scatter(pdf[\"col1\"], pdf[\"col2\"])\r\n",
        "plt.scatter(cluster_center[\"col1\"], cluster_center[\"col2\"], color=\"red\", marker=\"x\")\r\n",
        "plt.show()\r\n"
      ],
      "execution_count": 22,
      "outputs": [
        {
          "output_type": "stream",
          "text": [
            "Wine Data RDD\n"
          ],
          "name": "stdout"
        },
        {
          "output_type": "display_data",
          "data": {
            "text/plain": [
              "[[14.23, 2.43], [13.2, 2.14], [13.16, 2.67], [14.37, 2.5], [13.24, 2.87]]"
            ]
          },
          "metadata": {
            "tags": []
          }
        },
        {
          "output_type": "stream",
          "text": [
            "\n",
            "\n",
            "Find cluster centers\n"
          ],
          "name": "stdout"
        },
        {
          "output_type": "display_data",
          "data": {
            "text/plain": [
              "[array([12.28860465,  2.29232558]), array([13.66619565,  2.43586957])]"
            ]
          },
          "metadata": {
            "tags": []
          }
        },
        {
          "output_type": "stream",
          "text": [
            "\n",
            "\n",
            "Within Set Sum of Squared Error = 77.72166220943333 \n",
            "\n",
            "spark df represents data points: \n"
          ],
          "name": "stdout"
        },
        {
          "output_type": "display_data",
          "data": {
            "text/html": [
              "<div>\n",
              "<style scoped>\n",
              "    .dataframe tbody tr th:only-of-type {\n",
              "        vertical-align: middle;\n",
              "    }\n",
              "\n",
              "    .dataframe tbody tr th {\n",
              "        vertical-align: top;\n",
              "    }\n",
              "\n",
              "    .dataframe thead th {\n",
              "        text-align: right;\n",
              "    }\n",
              "</style>\n",
              "<table border=\"1\" class=\"dataframe\">\n",
              "  <thead>\n",
              "    <tr style=\"text-align: right;\">\n",
              "      <th></th>\n",
              "      <th>col1</th>\n",
              "      <th>col2</th>\n",
              "    </tr>\n",
              "  </thead>\n",
              "  <tbody>\n",
              "    <tr>\n",
              "      <th>0</th>\n",
              "      <td>14.23</td>\n",
              "      <td>2.43</td>\n",
              "    </tr>\n",
              "    <tr>\n",
              "      <th>1</th>\n",
              "      <td>13.20</td>\n",
              "      <td>2.14</td>\n",
              "    </tr>\n",
              "    <tr>\n",
              "      <th>2</th>\n",
              "      <td>13.16</td>\n",
              "      <td>2.67</td>\n",
              "    </tr>\n",
              "    <tr>\n",
              "      <th>3</th>\n",
              "      <td>14.37</td>\n",
              "      <td>2.50</td>\n",
              "    </tr>\n",
              "    <tr>\n",
              "      <th>4</th>\n",
              "      <td>13.24</td>\n",
              "      <td>2.87</td>\n",
              "    </tr>\n",
              "  </tbody>\n",
              "</table>\n",
              "</div>"
            ],
            "text/plain": [
              "    col1  col2\n",
              "0  14.23  2.43\n",
              "1  13.20  2.14\n",
              "2  13.16  2.67\n",
              "3  14.37  2.50\n",
              "4  13.24  2.87"
            ]
          },
          "metadata": {
            "tags": []
          }
        },
        {
          "output_type": "stream",
          "text": [
            "\n",
            "\n",
            "cluster center is just a dataframe of centers\n"
          ],
          "name": "stdout"
        },
        {
          "output_type": "display_data",
          "data": {
            "text/html": [
              "<div>\n",
              "<style scoped>\n",
              "    .dataframe tbody tr th:only-of-type {\n",
              "        vertical-align: middle;\n",
              "    }\n",
              "\n",
              "    .dataframe tbody tr th {\n",
              "        vertical-align: top;\n",
              "    }\n",
              "\n",
              "    .dataframe thead th {\n",
              "        text-align: right;\n",
              "    }\n",
              "</style>\n",
              "<table border=\"1\" class=\"dataframe\">\n",
              "  <thead>\n",
              "    <tr style=\"text-align: right;\">\n",
              "      <th></th>\n",
              "      <th>col1</th>\n",
              "      <th>col2</th>\n",
              "    </tr>\n",
              "  </thead>\n",
              "  <tbody>\n",
              "    <tr>\n",
              "      <th>0</th>\n",
              "      <td>12.288605</td>\n",
              "      <td>2.292326</td>\n",
              "    </tr>\n",
              "    <tr>\n",
              "      <th>1</th>\n",
              "      <td>13.666196</td>\n",
              "      <td>2.435870</td>\n",
              "    </tr>\n",
              "  </tbody>\n",
              "</table>\n",
              "</div>"
            ],
            "text/plain": [
              "        col1      col2\n",
              "0  12.288605  2.292326\n",
              "1  13.666196  2.435870"
            ]
          },
          "metadata": {
            "tags": []
          }
        },
        {
          "output_type": "stream",
          "text": [
            "\n",
            "\n"
          ],
          "name": "stdout"
        },
        {
          "output_type": "display_data",
          "data": {
            "image/png": "[encoded data removed]",
            "text/plain": [
              "<Figure size 432x288 with 1 Axes>"
            ]
          },
          "metadata": {
            "tags": [],
            "needs_background": "light"
          }
        }
      ]
    },
    {
      "cell_type": "code",
      "metadata": {
        "colab": {
          "base_uri": "https://localhost:8080/",
          "height": 574
        },
        "id": "UI6RNpBSEHe_",
        "outputId": "cffa4e0e-a94e-4142-be70-d16ff712a1e6"
      },
      "source": [
        "### clustering example\r\n",
        "\r\n",
        "# Load the dataset into a RDD\r\n",
        "clusterRDD = sc.textFile(\"5000_points.txt\")\r\n",
        "print(\"The raw RDD file looks like this:\")\r\n",
        "display(clusterRDD.take(3)); print(\"\\n\")\r\n",
        "\r\n",
        "# Split the RDD based on tab\r\n",
        "rdd_split = clusterRDD.map(lambda x: x.split(\"\\t\"))\r\n",
        "print(\"The split RDD looks like this:\")\r\n",
        "display(rdd_split.take(3)); print(\"\\n\")\r\n",
        "\r\n",
        "# Transform the split RDD by creating a list of integers\r\n",
        "rdd_split_int = rdd_split.map(lambda x: [int(x[0]), int(x[1])])\r\n",
        "print(\"The integer RDD looks like this:\")\r\n",
        "display(rdd_split_int.take(3)); print(\"\\n\")\r\n",
        "\r\n",
        "# Count the number of rows in RDD \r\n",
        "print(\"There are {} rows in the rdd_split_int dataset\".format(rdd_split_int.count()))\r\n",
        "\r\n",
        "### the best practice is to try several values of k until the average intracluster distance stops decreasing dramatically ###\r\n",
        "### For real world data, you should train the model with a wide range of K values.\r\n",
        "\r\n",
        "# Train the model with clusters from 13 to 16 and compute WSSSE \r\n",
        "for clst in range(13, 17):\r\n",
        "    model = KMeans.train(rdd_split_int, clst, seed=1)\r\n",
        "    WSSSE = rdd_split_int.map(lambda point: error(point)).reduce(lambda x, y: x + y)\r\n",
        "    print(\"The cluster {} has Within Set Sum of Squared Error {}\".format(clst, WSSSE))\r\n",
        "\r\n",
        "# Train the model again with the best k \r\n",
        "model = KMeans.train(rdd_split_int, k=15, seed=1)\r\n",
        "\r\n",
        "# Get cluster centers\r\n",
        "cluster_centers = model.clusterCenters\r\n",
        "\r\n",
        "# Convert rdd_split_int RDD into Spark DataFrame\r\n",
        "rdd_split_int_df = spark.createDataFrame(rdd_split_int, schema=[\"col1\", \"col2\"])\r\n",
        "\r\n",
        "# Convert Spark DataFrame into Pandas DataFrame\r\n",
        "rdd_split_int_df_pandas = rdd_split_int_df.toPandas()\r\n",
        "\r\n",
        "# Convert \"cluster_centers\" that you generated earlier into Pandas DataFrame\r\n",
        "cluster_centers_pandas = pd.DataFrame(cluster_centers, columns=[\"col1\", \"col2\"])\r\n",
        "\r\n",
        "# Create an overlaid scatter plot\r\n",
        "plt.scatter(rdd_split_int_df_pandas[\"col1\"], rdd_split_int_df_pandas[\"col2\"])\r\n",
        "plt.scatter(cluster_centers_pandas[\"col1\"], cluster_centers_pandas[\"col2\"], color=\"red\", marker=\"x\")\r\n",
        "plt.show()\r\n"
      ],
      "execution_count": 23,
      "outputs": [
        {
          "output_type": "stream",
          "text": [
            "The raw RDD file looks like this:\n"
          ],
          "name": "stdout"
        },
        {
          "output_type": "display_data",
          "data": {
            "text/plain": [
              "['664159\\t550946', '665845\\t557965', '597173\\t575538']"
            ]
          },
          "metadata": {
            "tags": []
          }
        },
        {
          "output_type": "stream",
          "text": [
            "\n",
            "\n",
            "The split RDD looks like this:\n"
          ],
          "name": "stdout"
        },
        {
          "output_type": "display_data",
          "data": {
            "text/plain": [
              "[['664159', '550946'], ['665845', '557965'], ['597173', '575538']]"
            ]
          },
          "metadata": {
            "tags": []
          }
        },
        {
          "output_type": "stream",
          "text": [
            "\n",
            "\n",
            "The integer RDD looks like this:\n"
          ],
          "name": "stdout"
        },
        {
          "output_type": "display_data",
          "data": {
            "text/plain": [
              "[[664159, 550946], [665845, 557965], [597173, 575538]]"
            ]
          },
          "metadata": {
            "tags": []
          }
        },
        {
          "output_type": "stream",
          "text": [
            "\n",
            "\n",
            "There are 5000 rows in the rdd_split_int dataset\n",
            "The cluster 13 has Within Set Sum of Squared Error 252060331.1260039\n",
            "The cluster 14 has Within Set Sum of Squared Error 215808893.2796594\n",
            "The cluster 15 has Within Set Sum of Squared Error 169394691.52639425\n",
            "The cluster 16 has Within Set Sum of Squared Error 168103213.0429197\n"
          ],
          "name": "stdout"
        },
        {
          "output_type": "display_data",
          "data": {
            "image/png": "[encoded data removed]",
            "text/plain": [
              "<Figure size 432x288 with 1 Axes>"
            ]
          },
          "metadata": {
            "tags": [],
            "needs_background": "light"
          }
        }
      ]
    },
    {
      "cell_type": "code",
      "metadata": {
        "id": "25uNucrwangd"
      },
      "source": [
        ""
      ],
      "execution_count": null,
      "outputs": []
    }
  ]
}