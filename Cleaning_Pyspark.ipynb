{
  "nbformat": 4,
  "nbformat_minor": 0,
  "metadata": {
    "colab": {
      "name": "Cleaning_Pyspark.ipynb",
      "provenance": []
    },
    "kernelspec": {
      "name": "python3",
      "display_name": "Python 3"
    }
  },
  "cells": [
    {
      "cell_type": "code",
      "metadata": {
        "colab": {
          "base_uri": "https://localhost:8080/"
        },
        "id": "Zo2kPMOo8FtO",
        "outputId": "c4a754df-fb6e-4349-af05-22c1667a665f"
      },
      "source": [
        "!pip install pyspark"
      ],
      "execution_count": null,
      "outputs": [
        {
          "output_type": "stream",
          "text": [
            "Collecting pyspark\n",
            "\u001b[?25l  Downloading https://files.pythonhosted.org/packages/f0/26/198fc8c0b98580f617cb03cb298c6056587b8f0447e20fa40c5b634ced77/pyspark-3.0.1.tar.gz (204.2MB)\n",
            "\u001b[K     |████████████████████████████████| 204.2MB 59kB/s \n",
            "\u001b[?25hCollecting py4j==0.10.9\n",
            "\u001b[?25l  Downloading https://files.pythonhosted.org/packages/9e/b6/6a4fb90cd235dc8e265a6a2067f2a2c99f0d91787f06aca4bcf7c23f3f80/py4j-0.10.9-py2.py3-none-any.whl (198kB)\n",
            "\u001b[K     |████████████████████████████████| 204kB 6.7MB/s \n",
            "\u001b[?25hBuilding wheels for collected packages: pyspark\n",
            "  Building wheel for pyspark (setup.py) ... \u001b[?25l\u001b[?25hdone\n",
            "  Created wheel for pyspark: filename=pyspark-3.0.1-py2.py3-none-any.whl size=204612242 sha256=e90324f44225aaf437550cc9bdd993a15b5dd17767c41d0f8174b2a9125093ef\n",
            "  Stored in directory: /root/.cache/pip/wheels/5e/bd/07/031766ca628adec8435bb40f0bd83bb676ce65ff4007f8e73f\n",
            "Successfully built pyspark\n",
            "Installing collected packages: py4j, pyspark\n",
            "Successfully installed py4j-0.10.9 pyspark-3.0.1\n"
          ],
          "name": "stdout"
        }
      ]
    },
    {
      "cell_type": "code",
      "metadata": {
        "id": "Kep0j1wk8L9t"
      },
      "source": [
        "from pyspark.sql.types import StructType, StructField, StringType, IntegerType, ArrayType\r\n",
        "from pyspark.sql import SparkSession\r\n",
        "from pyspark import SparkContext\r\n",
        "sc = SparkContext()\r\n",
        "spark = SparkSession.builder.getOrCreate()\r\n",
        "\r\n"
      ],
      "execution_count": null,
      "outputs": []
    },
    {
      "cell_type": "code",
      "metadata": {
        "id": "wXWaWogw972r",
        "colab": {
          "base_uri": "https://localhost:8080/",
          "height": 419
        },
        "outputId": "c5c38fd7-cdc1-4b7c-f435-8a86786fe8d4"
      },
      "source": [
        "# StructField(\"name\", dtype, nullable=True)\r\n",
        "peopleSchema = StructType([StructField(\"name\", StringType(), True ), StructField(\"age\", IntegerType(), True), StructField(\"city\", StringType(), True)])\r\n",
        "people_df = spark.read.format(\"csv\").load(name=\"voterdata.csv\", schema=peopleSchema) # อันนี้ใส่ Schema มั่วๆเอา\r\n",
        "\r\n",
        "# Read csv\r\n",
        "sdf = spark.read.csv(\"voterdata.csv\", inferSchema=True, header=True)\r\n",
        "sdf = sdf.withColumn(\"AGENDA_ITEM_NUMBER\", sdf[\"AGENDA_ITEM_NUMBER\"].cast(\"integer\"))\r\n",
        "\r\n",
        "# Add column\r\n",
        "sdf = sdf.withColumn(\"ITEM+100\", sdf[\"AGENDA_ITEM_NUMBER\"]+100)\r\n",
        "display(sdf.show(3))\r\n",
        "\r\n",
        "# Drop column\r\n",
        "sdf = sdf.drop(sdf[\"AGENDA_ITEM_NUMBER\"])\r\n",
        "display(sdf.show(3))\r\n",
        "\r\n",
        "# Count number rows\r\n",
        "display(sdf.count())"
      ],
      "execution_count": null,
      "outputs": [
        {
          "output_type": "stream",
          "text": [
            "+----------+------------------+---------+--------+-------------+-------------------+---------+------------------+-----------------------+------------------+--------------------+--------+\n",
            "|      DATE|AGENDA_ITEM_NUMBER|ITEM_TYPE|DISTRICT|        TITLE|         VOTER NAME|VOTE CAST|FINAL ACTION TAKEN|AGENDA ITEM DESCRIPTION|         AGENDA_ID|             VOTE_ID|ITEM+100|\n",
            "+----------+------------------+---------+--------+-------------+-------------------+---------+------------------+-----------------------+------------------+--------------------+--------+\n",
            "|02/08/2017|                 1|   AGENDA|      13|Councilmember|  Jennifer S. Gates|      N/A|  NO ACTION NEEDED|          Call to Order|020817__Special__1|020817__Special__...|     101|\n",
            "|02/08/2017|                 1|   AGENDA|      14|Councilmember| Philip T. Kingston|      N/A|  NO ACTION NEEDED|          Call to Order|020817__Special__1|020817__Special__...|     101|\n",
            "|02/08/2017|                 1|   AGENDA|      15|        Mayor|Michael S. Rawlings|      N/A|  NO ACTION NEEDED|          Call to Order|020817__Special__1|020817__Special__...|     101|\n",
            "+----------+------------------+---------+--------+-------------+-------------------+---------+------------------+-----------------------+------------------+--------------------+--------+\n",
            "only showing top 3 rows\n",
            "\n"
          ],
          "name": "stdout"
        },
        {
          "output_type": "display_data",
          "data": {
            "text/plain": [
              "None"
            ]
          },
          "metadata": {
            "tags": []
          }
        },
        {
          "output_type": "stream",
          "text": [
            "+----------+---------+--------+-------------+-------------------+---------+------------------+-----------------------+------------------+--------------------+--------+\n",
            "|      DATE|ITEM_TYPE|DISTRICT|        TITLE|         VOTER NAME|VOTE CAST|FINAL ACTION TAKEN|AGENDA ITEM DESCRIPTION|         AGENDA_ID|             VOTE_ID|ITEM+100|\n",
            "+----------+---------+--------+-------------+-------------------+---------+------------------+-----------------------+------------------+--------------------+--------+\n",
            "|02/08/2017|   AGENDA|      13|Councilmember|  Jennifer S. Gates|      N/A|  NO ACTION NEEDED|          Call to Order|020817__Special__1|020817__Special__...|     101|\n",
            "|02/08/2017|   AGENDA|      14|Councilmember| Philip T. Kingston|      N/A|  NO ACTION NEEDED|          Call to Order|020817__Special__1|020817__Special__...|     101|\n",
            "|02/08/2017|   AGENDA|      15|        Mayor|Michael S. Rawlings|      N/A|  NO ACTION NEEDED|          Call to Order|020817__Special__1|020817__Special__...|     101|\n",
            "+----------+---------+--------+-------------+-------------------+---------+------------------+-----------------------+------------------+--------------------+--------+\n",
            "only showing top 3 rows\n",
            "\n"
          ],
          "name": "stdout"
        },
        {
          "output_type": "display_data",
          "data": {
            "text/plain": [
              "None"
            ]
          },
          "metadata": {
            "tags": []
          }
        },
        {
          "output_type": "display_data",
          "data": {
            "text/plain": [
              "44625"
            ]
          },
          "metadata": {
            "tags": []
          }
        }
      ]
    },
    {
      "cell_type": "code",
      "metadata": {
        "colab": {
          "base_uri": "https://localhost:8080/",
          "height": 854
        },
        "id": "oxiYLxv2ETMe",
        "outputId": "c8437acd-66db-447e-c953-b732b481ac9e"
      },
      "source": [
        "# Load csv file from .gz (Winrar) file\r\n",
        "aa_dfw_df = spark.read.format('csv').options(Header=True).load('AA_DFW_2017_Departures_Short.csv.gz')\r\n",
        "display(aa_dfw_df.show(4))\r\n",
        "\r\n",
        "# ไม่เห็นจำเป็นต้องเขียนยาวๆ โง่ๆ\r\n",
        "display(spark.read.csv(\"AA_DFW_2017_Departures_Short.csv.gz\", header=True).show(4))\r\n",
        "sdf = spark.read.csv(\"voterdata.csv\", inferSchema=True, header=True)\r\n",
        "\r\n",
        "\r\n",
        "# import string function\r\n",
        "import pyspark.sql.functions as F\r\n",
        "aa_dfw_df = aa_dfw_df.withColumn('airport', F.lower(aa_dfw_df['Destination Airport']))\r\n",
        "\r\n",
        "# Drop the Destination Airport column\r\n",
        "aa_dfw_df = aa_dfw_df.drop(aa_dfw_df['Destination Airport'])\r\n",
        "\r\n",
        "# Show the DataFrame\r\n",
        "display(aa_dfw_df.show(5))\r\n",
        "\r\n",
        "# Add tables to catalog\r\n",
        "aa_dfw_df.createOrReplaceTempView(\"flights\")\r\n",
        "sdf.createOrReplaceTempView(\"voters\")\r\n",
        "display(spark.catalog.listTables())\r\n",
        "\r\n",
        "# Can be used with sql query\r\n",
        "tested_df = spark.sql(\"SELECT * FROM flights WHERE airport = 'hnl'\")\r\n",
        "tested_df.show(4)"
      ],
      "execution_count": null,
      "outputs": [
        {
          "output_type": "stream",
          "text": [
            "+-----------------+-------------+-------------------+-----------------------------+\n",
            "|Date (MM/DD/YYYY)|Flight Number|Destination Airport|Actual elapsed time (Minutes)|\n",
            "+-----------------+-------------+-------------------+-----------------------------+\n",
            "|       01/01/2017|         0005|                HNL|                          537|\n",
            "|       01/01/2017|         0007|                OGG|                          498|\n",
            "|       01/01/2017|         0037|                SFO|                          241|\n",
            "|       01/01/2017|         0043|                DTW|                          134|\n",
            "+-----------------+-------------+-------------------+-----------------------------+\n",
            "only showing top 4 rows\n",
            "\n"
          ],
          "name": "stdout"
        },
        {
          "output_type": "display_data",
          "data": {
            "text/plain": [
              "None"
            ]
          },
          "metadata": {
            "tags": []
          }
        },
        {
          "output_type": "stream",
          "text": [
            "+-----------------+-------------+-------------------+-----------------------------+\n",
            "|Date (MM/DD/YYYY)|Flight Number|Destination Airport|Actual elapsed time (Minutes)|\n",
            "+-----------------+-------------+-------------------+-----------------------------+\n",
            "|       01/01/2017|         0005|                HNL|                          537|\n",
            "|       01/01/2017|         0007|                OGG|                          498|\n",
            "|       01/01/2017|         0037|                SFO|                          241|\n",
            "|       01/01/2017|         0043|                DTW|                          134|\n",
            "+-----------------+-------------+-------------------+-----------------------------+\n",
            "only showing top 4 rows\n",
            "\n"
          ],
          "name": "stdout"
        },
        {
          "output_type": "display_data",
          "data": {
            "text/plain": [
              "None"
            ]
          },
          "metadata": {
            "tags": []
          }
        },
        {
          "output_type": "stream",
          "text": [
            "+-----------------+-------------+-----------------------------+-------+\n",
            "|Date (MM/DD/YYYY)|Flight Number|Actual elapsed time (Minutes)|airport|\n",
            "+-----------------+-------------+-----------------------------+-------+\n",
            "|       01/01/2017|         0005|                          537|    hnl|\n",
            "|       01/01/2017|         0007|                          498|    ogg|\n",
            "|       01/01/2017|         0037|                          241|    sfo|\n",
            "|       01/01/2017|         0043|                          134|    dtw|\n",
            "|       01/01/2017|         0051|                           88|    stl|\n",
            "+-----------------+-------------+-----------------------------+-------+\n",
            "only showing top 5 rows\n",
            "\n"
          ],
          "name": "stdout"
        },
        {
          "output_type": "display_data",
          "data": {
            "text/plain": [
              "None"
            ]
          },
          "metadata": {
            "tags": []
          }
        },
        {
          "output_type": "display_data",
          "data": {
            "text/plain": [
              "[Table(name='flights', database=None, description=None, tableType='TEMPORARY', isTemporary=True),\n",
              " Table(name='voters', database=None, description=None, tableType='TEMPORARY', isTemporary=True)]"
            ]
          },
          "metadata": {
            "tags": []
          }
        },
        {
          "output_type": "stream",
          "text": [
            "+-----------------+-------------+-----------------------------+-------+\n",
            "|Date (MM/DD/YYYY)|Flight Number|Actual elapsed time (Minutes)|airport|\n",
            "+-----------------+-------------+-----------------------------+-------+\n",
            "|       01/01/2017|         0005|                          537|    hnl|\n",
            "|       01/01/2017|         0123|                          529|    hnl|\n",
            "|       01/02/2017|         0005|                          537|    hnl|\n",
            "|       01/02/2017|         0123|                          532|    hnl|\n",
            "+-----------------+-------------+-----------------------------+-------+\n",
            "only showing top 4 rows\n",
            "\n"
          ],
          "name": "stdout"
        }
      ]
    },
    {
      "cell_type": "code",
      "metadata": {
        "id": "eceSMYDVJxN2",
        "colab": {
          "base_uri": "https://localhost:8080/"
        },
        "outputId": "01019497-8e60-4074-ed13-89e93c184051"
      },
      "source": [
        "xspark.read.csv(\"AA_DFW_2017_Departures_Short.csv.gz\", header=True).show(4)"
      ],
      "execution_count": null,
      "outputs": [
        {
          "output_type": "stream",
          "text": [
            "+-----------------+-------------+-------------------+-----------------------------+\n",
            "|Date (MM/DD/YYYY)|Flight Number|Destination Airport|Actual elapsed time (Minutes)|\n",
            "+-----------------+-------------+-------------------+-----------------------------+\n",
            "|       01/01/2017|         0005|                HNL|                          537|\n",
            "|       01/01/2017|         0007|                OGG|                          498|\n",
            "|       01/01/2017|         0037|                SFO|                          241|\n",
            "|       01/01/2017|         0043|                DTW|                          134|\n",
            "+-----------------+-------------+-------------------+-----------------------------+\n",
            "only showing top 4 rows\n",
            "\n"
          ],
          "name": "stdout"
        }
      ]
    },
    {
      "cell_type": "code",
      "metadata": {
        "id": "V6g-NOdsNvGe"
      },
      "source": [
        "### Working with Parquet \r\n",
        "\r\n",
        "# Read Parquet \r\n",
        "df = spark.read.format(\"parquet\").load(\"filename.parquet\")\r\n",
        "df = spark.read.parquet(\"filename.parquet\")\r\n",
        "\r\n",
        "# Write Parquet\r\n",
        "df.write.format(\"parquet\").save(\"filename.parquet\")\r\n",
        "df.write.parquet(\"filename.parquet\")\r\n",
        "\r\n",
        "# Add tables to catalog to be used for sql query\r\n",
        "df.createOrReplaceTempView(\"Table_name\")\r\n"
      ],
      "execution_count": null,
      "outputs": []
    },
    {
      "cell_type": "code",
      "metadata": {
        "colab": {
          "base_uri": "https://localhost:8080/"
        },
        "id": "ysK9YFtPlvy2",
        "outputId": "7051bee9-f257-448e-9804-993afb4a4dec"
      },
      "source": [
        "voter_df = spark.read.csv(\"voterdata.csv\", header=True, inferSchema=True)\r\n",
        "voter_df = voter_df.withColumnRenamed(\"VOTER NAME\", \"name\")\r\n",
        "\r\n",
        "# # เลือกเฉพาะแถวที่ชื่อขึ้นต้นด้วย m\r\n",
        "# voter_df.filter(voter_df[\"name\"].like(\"M%\")).show(5)\r\n",
        "# voter_df.select(\"ITEM_TYPE\", \"name\").show(4)\r\n",
        "# voter_df.filter(voter_df[\"DATE\"] > '1/1/2017').show(5)\r\n",
        "voter_df.where(voter_df[\"DATE\"] > '1/1/2017').show(5)"
      ],
      "execution_count": null,
      "outputs": [
        {
          "output_type": "stream",
          "text": [
            "+--------------------+------------------+-------------+--------+-------------+--------------+---------+------------------+-----------------------+---------+------------+\n",
            "|                DATE|AGENDA_ITEM_NUMBER|    ITEM_TYPE|DISTRICT|        TITLE|          name|VOTE CAST|FINAL ACTION TAKEN|AGENDA ITEM DESCRIPTION|AGENDA_ID|     VOTE_ID|\n",
            "+--------------------+------------------+-------------+--------+-------------+--------------+---------+------------------+-----------------------+---------+------------+\n",
            "|          10/03/2018|                 1|       AGENDA|      12|Councilmember|Sandy  Greyson|      YES|          APPROVED|   Approval of Minut...|100318__1|100318__1_12|\n",
            "|[APPOINTMENT OF J...|        061318__44| 061318__44_1|    null|         null|          null|     null|              null|                   null|     null|        null|\n",
            "|[APPOINTMENT OF J...|        061318__44|061318__44_10|    null|         null|          null|     null|              null|                   null|     null|        null|\n",
            "|[APPOINTMENT OF J...|        061318__44|061318__44_11|    null|         null|          null|     null|              null|                   null|     null|        null|\n",
            "|[APPOINTMENT OF J...|        061318__44|061318__44_12|    null|         null|          null|     null|              null|                   null|     null|        null|\n",
            "+--------------------+------------------+-------------+--------+-------------+--------------+---------+------------------+-----------------------+---------+------------+\n",
            "only showing top 5 rows\n",
            "\n"
          ],
          "name": "stdout"
        }
      ]
    },
    {
      "cell_type": "code",
      "metadata": {
        "colab": {
          "base_uri": "https://localhost:8080/"
        },
        "id": "9f2vY8t-l8ow",
        "outputId": "a6ed7357-9587-4aef-ae53-656a2dc75d54"
      },
      "source": [
        "import pyspark.sql.functions as F\r\n",
        "\r\n",
        "voter_df = spark.read.csv(\"voterdata.csv\", header=True, inferSchema=True)\r\n",
        "voter_df = voter_df.withColumnRenamed(\"VOTER NAME\", \"name\")\r\n",
        "\r\n",
        "# Show the distinct VOTER_NAME entries\r\n",
        "voter_df.select(\"name\").distinct().show(40, truncate=False)\r\n",
        "\r\n",
        "# Filter voter_df where the VOTER_NAME is 1-20 characters in length\r\n",
        "voter_df = voter_df.filter('length(name) > 0 and length(name) < 20')\r\n",
        "\r\n",
        "# Filter out voter_df where the VOTER_NAME contains an underscore\r\n",
        "voter_df = voter_df.filter(~ F.col('name').contains('_'))\r\n",
        "\r\n",
        "# Show the distinct VOTER_NAME entries again\r\n",
        "voter_df.select(\"name\").distinct().show(40, truncate=False)\r\n",
        "\r\n",
        "# Add a new column called splits separated on whitespace\r\n",
        "voter_df = voter_df.withColumn(\"splits\", F.split(voter_df[\"name\"], '\\s+'))\r\n",
        "\r\n",
        "# Create a new column called first_name based on the first item in splits\r\n",
        "voter_df = voter_df.withColumn(\"first_name\", voter_df[\"splits\"].getItem(0))\r\n",
        "\r\n",
        "# Get the last entry of the splits list and create a column called last_name\r\n",
        "voter_df = voter_df.withColumn(\"last_name\", voter_df.splits.getItem(F.size('splits') - 1)) #อย่าลืม มันเริ่มที่ 0 ถ้าขนาด array=3 ตัวสุดท้าย index=2\r\n",
        "\r\n",
        "# Drop the splits column\r\n",
        "voter_df = voter_df.drop('splits')\r\n",
        "\r\n",
        "# Show the voter_df DataFrame\r\n",
        "voter_df.show()"
      ],
      "execution_count": null,
      "outputs": [
        {
          "output_type": "stream",
          "text": [
            "+---------------------------------------------------------------------------------------------------------------------------------------------------------------------------------------------------------------------------------------------------------------------------------------------------------------------------------------------------------------------------------------------------------------------------+\n",
            "|name                                                                                                                                                                                                                                                                                                                                                                                                                       |\n",
            "+---------------------------------------------------------------------------------------------------------------------------------------------------------------------------------------------------------------------------------------------------------------------------------------------------------------------------------------------------------------------------------------------------------------------------+\n",
            "|Tennell Atkins                                                                                                                                                                                                                                                                                                                                                                                                             |\n",
            "|  the  final   2018 Assessment Plan and the 2018 Assessment  Roll  (to  be  kept  on  file  with  the  City  Secretary);  establishing  classifications  for   the   apportionment   of   costs and the methods of assessing special assessments for the services and improvements to property in the District;  closing  the  hearing  and  levying  a  special  assessment  on  property  in  the  District              |\n",
            "|Scott Griggs                                                                                                                                                                                                                                                                                                                                                                                                               |\n",
            "|Scott  Griggs                                                                                                                                                                                                                                                                                                                                                                                                              |\n",
            "|Sandy Greyson                                                                                                                                                                                                                                                                                                                                                                                                              |\n",
            "|Michael S. Rawlings                                                                                                                                                                                                                                                                                                                                                                                                        |\n",
            "| the final 2018 Assessment Plan and the 2018 Assessment  Roll  (to  be  kept  on  file  with  the  City  Secretary);  establishing  classifications  for  the   apportionment   of   costs and  the  methods  of  assessing  special  assessments  on  Dallas  hotels  with    100 or more rooms                                                                                                                           |\n",
            "|Kevin Felder                                                                                                                                                                                                                                                                                                                                                                                                               |\n",
            "|Adam Medrano                                                                                                                                                                                                                                                                                                                                                                                                               |\n",
            "|null                                                                                                                                                                                                                                                                                                                                                                                                                       |\n",
            "|   the   final  2018 Assessment  Plan  and  the  2018 Assessment  Roll  (to  be  kept  on  file   with the City Secretary); establishing classifications  for  the  apportionment  of  costs  and  the  methods  of  assessing  special  assessments  for  the  services  and  improvements  to  property  in  the  District;  closing  the  hearing  and  levying  a special  assessment  on  property  in  the  District |\n",
            "|011018__42                                                                                                                                                                                                                                                                                                                                                                                                                 |\n",
            "|Casey Thomas, II                                                                                                                                                                                                                                                                                                                                                                                                           |\n",
            "|Mark  Clayton                                                                                                                                                                                                                                                                                                                                                                                                              |\n",
            "|Casey  Thomas, II                                                                                                                                                                                                                                                                                                                                                                                                          |\n",
            "|Sandy  Greyson                                                                                                                                                                                                                                                                                                                                                                                                             |\n",
            "|Mark Clayton                                                                                                                                                                                                                                                                                                                                                                                                               |\n",
            "|Jennifer S.  Gates                                                                                                                                                                                                                                                                                                                                                                                                         |\n",
            "|Tiffinni A. Young                                                                                                                                                                                                                                                                                                                                                                                                          |\n",
            "|  the  final  2018 Assessment  Plan   and   the   2018 Assessment   Roll  (to  be  kept  on  file  with  the  City  Secretary);  establishing   classifications  for the apportionment of costs and the  methods  of  assessing  special  assessments for the services and improvements  to  property  in  the  District;  closing the hearing and  levying  a  special  assessment  on  property  in  the  District       |\n",
            "|B. Adam  McGough                                                                                                                                                                                                                                                                                                                                                                                                           |\n",
            "|Omar Narvaez                                                                                                                                                                                                                                                                                                                                                                                                               |\n",
            "|Philip T. Kingston                                                                                                                                                                                                                                                                                                                                                                                                         |\n",
            "|Rickey D. Callahan                                                                                                                                                                                                                                                                                                                                                                                                         |\n",
            "|Dwaine R. Caraway                                                                                                                                                                                                                                                                                                                                                                                                          |\n",
            "|Philip T.  Kingston                                                                                                                                                                                                                                                                                                                                                                                                        |\n",
            "|Jennifer S. Gates                                                                                                                                                                                                                                                                                                                                                                                                          |\n",
            "|Lee M. Kleinman                                                                                                                                                                                                                                                                                                                                                                                                            |\n",
            "|Monica R. Alonzo                                                                                                                                                                                                                                                                                                                                                                                                           |\n",
            "|   the   final  2018 Assessment  Plan  and  the  2018 Assessment  Roll   (to  be  kept  on  file   with the City Secretary); establishing classifications  for  the  apportionment  of  costs  and  the  methods  of  assessing  special  assessments  for  the  services  and  improvements  to  property  in  the  District;  closing  the  hearing  and  levying  a special  assessment  on  property  in  the  District|\n",
            "|Rickey D.  Callahan                                                                                                                                                                                                                                                                                                                                                                                                        |\n",
            "|Carolyn King Arnold                                                                                                                                                                                                                                                                                                                                                                                                        |\n",
            "|  the  final   2018 Assessment Plan and the 2018 Assessment  Roll  (to  be  kept  on  file  with  the  City  Secretary);  establishing  classifications  for  the   apportionment   of   costs and the methods of assessing special assessments for the services and improvements to property in the District;  closing  the  hearing  and  levying  a  special  assessment  on  property  in  the  District               |\n",
            "|Erik Wilson                                                                                                                                                                                                                                                                                                                                                                                                                |\n",
            "|  the  final  2018 Assessment Plan and the 2018 Assessment  Roll  (to  be  kept  on  file  with  the  City  Secretary);  establishing  classifications  for  the   apportionment   of   costs and the methods of assessing special assessments for the services and improvements to property in the District; closing  the  hearing  and  levying  a  special  assessment  on  property  in  the  District                 |\n",
            "|Lee Kleinman                                                                                                                                                                                                                                                                                                                                                                                                               |\n",
            "+---------------------------------------------------------------------------------------------------------------------------------------------------------------------------------------------------------------------------------------------------------------------------------------------------------------------------------------------------------------------------------------------------------------------------+\n",
            "\n",
            "+-------------------+\n",
            "|name               |\n",
            "+-------------------+\n",
            "|Tennell Atkins     |\n",
            "|Scott Griggs       |\n",
            "|Scott  Griggs      |\n",
            "|Sandy Greyson      |\n",
            "|Michael S. Rawlings|\n",
            "|Kevin Felder       |\n",
            "|Adam Medrano       |\n",
            "|Casey Thomas, II   |\n",
            "|Mark  Clayton      |\n",
            "|Casey  Thomas, II  |\n",
            "|Sandy  Greyson     |\n",
            "|Mark Clayton       |\n",
            "|Jennifer S.  Gates |\n",
            "|Tiffinni A. Young  |\n",
            "|B. Adam  McGough   |\n",
            "|Omar Narvaez       |\n",
            "|Philip T. Kingston |\n",
            "|Rickey D. Callahan |\n",
            "|Dwaine R. Caraway  |\n",
            "|Philip T.  Kingston|\n",
            "|Jennifer S. Gates  |\n",
            "|Lee M. Kleinman    |\n",
            "|Monica R. Alonzo   |\n",
            "|Rickey D.  Callahan|\n",
            "|Carolyn King Arnold|\n",
            "|Erik Wilson        |\n",
            "|Lee Kleinman       |\n",
            "+-------------------+\n",
            "\n",
            "+----------+------------------+-----------+--------+-------------+-------------------+---------+------------------+-----------------------+------------------+--------------------+----------+---------+\n",
            "|      DATE|AGENDA_ITEM_NUMBER|  ITEM_TYPE|DISTRICT|        TITLE|               name|VOTE CAST|FINAL ACTION TAKEN|AGENDA ITEM DESCRIPTION|         AGENDA_ID|             VOTE_ID|first_name|last_name|\n",
            "+----------+------------------+-----------+--------+-------------+-------------------+---------+------------------+-----------------------+------------------+--------------------+----------+---------+\n",
            "|02/08/2017|                 1|     AGENDA|      13|Councilmember|  Jennifer S. Gates|      N/A|  NO ACTION NEEDED|          Call to Order|020817__Special__1|020817__Special__...|  Jennifer|    Gates|\n",
            "|02/08/2017|                 1|     AGENDA|      14|Councilmember| Philip T. Kingston|      N/A|  NO ACTION NEEDED|          Call to Order|020817__Special__1|020817__Special__...|    Philip| Kingston|\n",
            "|02/08/2017|                 1|     AGENDA|      15|        Mayor|Michael S. Rawlings|      N/A|  NO ACTION NEEDED|          Call to Order|020817__Special__1|020817__Special__...|   Michael| Rawlings|\n",
            "|02/08/2017|                 1|     AGENDA|       2|Councilmember|       Adam Medrano|      N/A|  NO ACTION NEEDED|          Call to Order|020817__Special__1|020817__Special__1_2|      Adam|  Medrano|\n",
            "|02/08/2017|                 1|     AGENDA|       3|Councilmember|   Casey Thomas, II|      N/A|  NO ACTION NEEDED|          Call to Order|020817__Special__1|020817__Special__1_3|     Casey|       II|\n",
            "|02/08/2017|                 1|     AGENDA|       4|Councilmember|Carolyn King Arnold|      N/A|  NO ACTION NEEDED|          Call to Order|020817__Special__1|020817__Special__1_4|   Carolyn|   Arnold|\n",
            "|02/08/2017|                 4|AGENDA DATE|       1|Councilmember|       Scott Griggs|      YES|          APPROVED|   Authorize a three...|         020817__4|         020817__4_1|     Scott|   Griggs|\n",
            "|02/08/2017|                 4|AGENDA DATE|      10|Councilmember|   B. Adam  McGough|      YES|          APPROVED|   Authorize a three...|         020817__4|        020817__4_10|        B.|  McGough|\n",
            "|02/08/2017|                 4|AGENDA DATE|      11|Councilmember|       Lee Kleinman|      YES|          APPROVED|   Authorize a three...|         020817__4|        020817__4_11|       Lee| Kleinman|\n",
            "|02/08/2017|                 4|AGENDA DATE|      12|Councilmember|      Sandy Greyson|      YES|          APPROVED|   Authorize a three...|         020817__4|        020817__4_12|     Sandy|  Greyson|\n",
            "|02/08/2017|                 4|AGENDA DATE|      13|Councilmember|  Jennifer S. Gates|      YES|          APPROVED|   Authorize a three...|         020817__4|        020817__4_13|  Jennifer|    Gates|\n",
            "|02/08/2017|                 4|AGENDA DATE|      14|Councilmember| Philip T. Kingston|      YES|          APPROVED|   Authorize a three...|         020817__4|        020817__4_14|    Philip| Kingston|\n",
            "|02/08/2017|                 4|AGENDA DATE|      15|        Mayor|Michael S. Rawlings|      YES|          APPROVED|   Authorize a three...|         020817__4|        020817__4_15|   Michael| Rawlings|\n",
            "|02/08/2017|                 4|AGENDA DATE|       2|Councilmember|       Adam Medrano|      YES|          APPROVED|   Authorize a three...|         020817__4|         020817__4_2|      Adam|  Medrano|\n",
            "|02/08/2017|                 4|AGENDA DATE|       3|Councilmember|   Casey Thomas, II|      YES|          APPROVED|   Authorize a three...|         020817__4|         020817__4_3|     Casey|       II|\n",
            "|02/08/2017|                 4|AGENDA DATE|       4|Councilmember|Carolyn King Arnold|      YES|          APPROVED|   Authorize a three...|         020817__4|         020817__4_4|   Carolyn|   Arnold|\n",
            "|02/08/2017|                 4|AGENDA DATE|       5|Councilmember| Rickey D. Callahan|      YES|          APPROVED|   Authorize a three...|         020817__4|         020817__4_5|    Rickey| Callahan|\n",
            "|01/11/2017|                 1|AGENDA DATE|      13|Councilmember|  Jennifer S. Gates|      YES|          APPROVED|   Approval of Minut...|         011117__1|        011117__1_13|  Jennifer|    Gates|\n",
            "|04/25/2018|                 1|AGENDA DATE|      12|Councilmember|     Sandy  Greyson|      YES|          APPROVED|   Approval of Minut...|         042518__1|        042518__1_12|     Sandy|  Greyson|\n",
            "|04/25/2018|                 1|AGENDA DATE|      13|Councilmember| Jennifer S.  Gates|      YES|          APPROVED|   Approval of Minut...|         042518__1|        042518__1_13|  Jennifer|    Gates|\n",
            "+----------+------------------+-----------+--------+-------------+-------------------+---------+------------------+-----------------------+------------------+--------------------+----------+---------+\n",
            "only showing top 20 rows\n",
            "\n"
          ],
          "name": "stdout"
        }
      ]
    },
    {
      "cell_type": "code",
      "metadata": {
        "colab": {
          "base_uri": "https://localhost:8080/"
        },
        "id": "0WQRH04_p9g_",
        "outputId": "8f3a0cea-4137-4845-ac35-e7864be39e89"
      },
      "source": [
        "# pyspark.sql.functions.when example\r\n",
        "import pyspark.sql.functions as F\r\n",
        "from pyspark.sql.functions import when\r\n",
        "\r\n",
        "voter_df = spark.read.csv(\"voterdata.csv\", header=True, inferSchema=True)\r\n",
        "voter_df = voter_df.withColumnRenamed(\"VOTER NAME\", \"name\")\r\n",
        "voter_df_ex = voter_df.select(\"DATE\", \"TITLE\", \"name\")\r\n",
        "voter_df_ex = voter_df_ex.withColumn('random_val', when(voter_df[\"TITLE\"]==\"Councilmember\", F.rand()))\r\n",
        "voter_df_ex.show()\r\n",
        "\r\n",
        "# Add a column to voter_df for a voter based on their position (when สามารถ chain ต่อเนื่องได้)\r\n",
        "voter_df_ex = voter_df_ex.withColumn('random_val', when(voter_df[\"TITLE\"] == 'Councilmember', F.rand()).when(voter_df[\"TITLE\"] == 'Mayor', 2).otherwise(0))\r\n",
        "\r\n",
        "# Show some of the DataFrame rows\r\n",
        "voter_df_ex.show()\r\n",
        "\r\n",
        "# Use the .filter() clause with random_val\r\n",
        "voter_df_ex.filter(\"random_val=0\").show() # หรือจะใช้ boolean array ก็ได้\r\n"
      ],
      "execution_count": null,
      "outputs": [
        {
          "output_type": "stream",
          "text": [
            "+----------+-------------+-------------------+-------------------+\n",
            "|      DATE|        TITLE|               name|         random_val|\n",
            "+----------+-------------+-------------------+-------------------+\n",
            "|02/08/2017|Councilmember|  Jennifer S. Gates| 0.6113700785651836|\n",
            "|02/08/2017|Councilmember| Philip T. Kingston| 0.8102519839470655|\n",
            "|02/08/2017|        Mayor|Michael S. Rawlings|               null|\n",
            "|02/08/2017|Councilmember|       Adam Medrano|0.19043774220413479|\n",
            "|02/08/2017|Councilmember|   Casey Thomas, II| 0.3345737334476334|\n",
            "|02/08/2017|Councilmember|Carolyn King Arnold| 0.6891886102126733|\n",
            "|02/08/2017|Councilmember|       Scott Griggs| 0.6661727060814254|\n",
            "|02/08/2017|Councilmember|   B. Adam  McGough|0.30678535440505117|\n",
            "|02/08/2017|Councilmember|       Lee Kleinman|0.16907165684673686|\n",
            "|02/08/2017|Councilmember|      Sandy Greyson|0.24403344746448197|\n",
            "|02/08/2017|Councilmember|  Jennifer S. Gates|0.08406954129531097|\n",
            "|02/08/2017|Councilmember| Philip T. Kingston| 0.5820154095892112|\n",
            "|02/08/2017|        Mayor|Michael S. Rawlings|               null|\n",
            "|02/08/2017|Councilmember|       Adam Medrano| 0.9047354141628532|\n",
            "|02/08/2017|Councilmember|   Casey Thomas, II| 0.6770284021841995|\n",
            "|02/08/2017|Councilmember|Carolyn King Arnold| 0.9163519868590877|\n",
            "|02/08/2017|Councilmember| Rickey D. Callahan| 0.8973019516965757|\n",
            "|01/11/2017|Councilmember|  Jennifer S. Gates| 0.6062996880511702|\n",
            "|04/25/2018|Councilmember|     Sandy  Greyson|0.11424992710498982|\n",
            "|04/25/2018|Councilmember| Jennifer S.  Gates| 0.9772130820096927|\n",
            "+----------+-------------+-------------------+-------------------+\n",
            "only showing top 20 rows\n",
            "\n",
            "+----------+-------------+-------------------+-------------------+\n",
            "|      DATE|        TITLE|               name|         random_val|\n",
            "+----------+-------------+-------------------+-------------------+\n",
            "|02/08/2017|Councilmember|  Jennifer S. Gates|  0.926865514848859|\n",
            "|02/08/2017|Councilmember| Philip T. Kingston| 0.9656317395942069|\n",
            "|02/08/2017|        Mayor|Michael S. Rawlings|                2.0|\n",
            "|02/08/2017|Councilmember|       Adam Medrano| 0.9769964175983826|\n",
            "|02/08/2017|Councilmember|   Casey Thomas, II|0.40853819853193307|\n",
            "|02/08/2017|Councilmember|Carolyn King Arnold| 0.6202518954041961|\n",
            "|02/08/2017|Councilmember|       Scott Griggs| 0.6066922934699552|\n",
            "|02/08/2017|Councilmember|   B. Adam  McGough| 0.7769342456797254|\n",
            "|02/08/2017|Councilmember|       Lee Kleinman| 0.8663507128152921|\n",
            "|02/08/2017|Councilmember|      Sandy Greyson| 0.0806521594379711|\n",
            "|02/08/2017|Councilmember|  Jennifer S. Gates| 0.1995092443100991|\n",
            "|02/08/2017|Councilmember| Philip T. Kingston| 0.5522505435868227|\n",
            "|02/08/2017|        Mayor|Michael S. Rawlings|                2.0|\n",
            "|02/08/2017|Councilmember|       Adam Medrano|0.20339820671224262|\n",
            "|02/08/2017|Councilmember|   Casey Thomas, II|0.49745343215008087|\n",
            "|02/08/2017|Councilmember|Carolyn King Arnold| 0.0502289766414844|\n",
            "|02/08/2017|Councilmember| Rickey D. Callahan|0.05087451513745911|\n",
            "|01/11/2017|Councilmember|  Jennifer S. Gates| 0.6145095955280607|\n",
            "|04/25/2018|Councilmember|     Sandy  Greyson| 0.3874798814300877|\n",
            "|04/25/2018|Councilmember| Jennifer S.  Gates| 0.6912860494119623|\n",
            "+----------+-------------+-------------------+-------------------+\n",
            "only showing top 20 rows\n",
            "\n",
            "+----------+--------------------+-----------------+----------+\n",
            "|      DATE|               TITLE|             name|random_val|\n",
            "+----------+--------------------+-----------------+----------+\n",
            "|04/25/2018|Deputy Mayor Pro Tem|     Adam Medrano|       0.0|\n",
            "|04/25/2018|       Mayor Pro Tem|Dwaine R. Caraway|       0.0|\n",
            "|06/20/2018|Deputy Mayor Pro Tem|     Adam Medrano|       0.0|\n",
            "|06/20/2018|       Mayor Pro Tem|Dwaine R. Caraway|       0.0|\n",
            "|06/20/2018|Deputy Mayor Pro Tem|     Adam Medrano|       0.0|\n",
            "|06/20/2018|       Mayor Pro Tem|Dwaine R. Caraway|       0.0|\n",
            "|08/15/2018|Deputy Mayor Pro Tem|     Adam Medrano|       0.0|\n",
            "|08/15/2018|              Vacant|             null|       0.0|\n",
            "|08/15/2018|Deputy Mayor Pro Tem|     Adam Medrano|       0.0|\n",
            "|08/15/2018|              Vacant|             null|       0.0|\n",
            "|09/18/2018|Deputy Mayor Pro Tem|     Adam Medrano|       0.0|\n",
            "|09/18/2018|       Mayor Pro Tem|Casey  Thomas, II|       0.0|\n",
            "|09/18/2018|              Vacant|             null|       0.0|\n",
            "|04/25/2018|Deputy Mayor Pro Tem|     Adam Medrano|       0.0|\n",
            "|04/25/2018|       Mayor Pro Tem|Dwaine R. Caraway|       0.0|\n",
            "|04/11/2018|       Mayor Pro Tem|Dwaine R. Caraway|       0.0|\n",
            "|04/11/2018|Deputy Mayor Pro Tem|     Adam Medrano|       0.0|\n",
            "|04/11/2018|       Mayor Pro Tem|Dwaine R. Caraway|       0.0|\n",
            "|04/11/2018|Deputy Mayor Pro Tem|     Adam Medrano|       0.0|\n",
            "|04/11/2018|       Mayor Pro Tem|Dwaine R. Caraway|       0.0|\n",
            "+----------+--------------------+-----------------+----------+\n",
            "only showing top 20 rows\n",
            "\n"
          ],
          "name": "stdout"
        }
      ]
    },
    {
      "cell_type": "code",
      "metadata": {
        "colab": {
          "base_uri": "https://localhost:8080/"
        },
        "id": "pBX3gxCblb_n",
        "outputId": "1c11e918-01f8-4d46-f58e-0e2be41d1fc4"
      },
      "source": [
        "# User-defined function\r\n",
        "from pyspark.sql.types import StructType, StructField, StringType, IntegerType, DoubleType\r\n",
        "from pyspark.sql.functions import udf\r\n",
        "from random import choice\r\n",
        "\r\n",
        "def reverseString(s):\r\n",
        "    return s[::-1]\r\n",
        "\r\n",
        "def sortingCap():\r\n",
        "    return choice([\"A\", \"B\", \"C\", \"D\"])\r\n",
        "\r\n",
        "# เพราะสาเหตุใดไม่ทราบ แต่ reverse ชื่อที่ยังไม่ clean ไม่ได้\r\n",
        "voter_df = spark.read.csv(\"voterdata.csv\", header=True, inferSchema=True)\r\n",
        "voter_df = voter_df.withColumnRenamed(\"VOTER NAME\", \"name\")\r\n",
        "voter_df = voter_df.filter('length(name) > 0 and length(name) < 20')\r\n",
        "voter_df = voter_df.filter(~ F.col('name').contains('_'))\r\n",
        "voter_df = voter_df.withColumn(\"splits\", F.split(voter_df[\"name\"], '\\s+'))\r\n",
        "voter_df = voter_df.withColumn(\"first_name\", voter_df[\"splits\"].getItem(0))\r\n",
        "user_df = voter_df.select(\"DATE\", \"TITLE\", \"name\", \"first_name\")\r\n",
        "\r\n",
        "# udf ต้องมี 2 positional arguments: ฟังก์ชัน และชนิดของค่าที่ return\r\n",
        "udfReverseString = udf(reverseString, StringType())\r\n",
        "udfReverseString2 = udf(lambda s: s[::-1], StringType())\r\n",
        "user_df = user_df.withColumn('ReverseName', udfReverseString2(user_df[\"name\"]))\r\n",
        "user_df.show()\r\n",
        "\r\n",
        "udfSortingCap = udf(sortingCap, StringType())\r\n",
        "user_df.withColumn(\"Grade\", udfSortingCap()).show()"
      ],
      "execution_count": null,
      "outputs": [
        {
          "output_type": "stream",
          "text": [
            "+----------+-------------+-------------------+----------+-------------------+\n",
            "|      DATE|        TITLE|               name|first_name|        ReverseName|\n",
            "+----------+-------------+-------------------+----------+-------------------+\n",
            "|02/08/2017|Councilmember|  Jennifer S. Gates|  Jennifer|  setaG .S refinneJ|\n",
            "|02/08/2017|Councilmember| Philip T. Kingston|    Philip| notsgniK .T pilihP|\n",
            "|02/08/2017|        Mayor|Michael S. Rawlings|   Michael|sgnilwaR .S leahciM|\n",
            "|02/08/2017|Councilmember|       Adam Medrano|      Adam|       onardeM madA|\n",
            "|02/08/2017|Councilmember|   Casey Thomas, II|     Casey|   II ,samohT yesaC|\n",
            "|02/08/2017|Councilmember|Carolyn King Arnold|   Carolyn|dlonrA gniK nyloraC|\n",
            "|02/08/2017|Councilmember|       Scott Griggs|     Scott|       sggirG ttocS|\n",
            "|02/08/2017|Councilmember|   B. Adam  McGough|        B.|   hguoGcM  madA .B|\n",
            "|02/08/2017|Councilmember|       Lee Kleinman|       Lee|       namnielK eeL|\n",
            "|02/08/2017|Councilmember|      Sandy Greyson|     Sandy|      nosyerG ydnaS|\n",
            "|02/08/2017|Councilmember|  Jennifer S. Gates|  Jennifer|  setaG .S refinneJ|\n",
            "|02/08/2017|Councilmember| Philip T. Kingston|    Philip| notsgniK .T pilihP|\n",
            "|02/08/2017|        Mayor|Michael S. Rawlings|   Michael|sgnilwaR .S leahciM|\n",
            "|02/08/2017|Councilmember|       Adam Medrano|      Adam|       onardeM madA|\n",
            "|02/08/2017|Councilmember|   Casey Thomas, II|     Casey|   II ,samohT yesaC|\n",
            "|02/08/2017|Councilmember|Carolyn King Arnold|   Carolyn|dlonrA gniK nyloraC|\n",
            "|02/08/2017|Councilmember| Rickey D. Callahan|    Rickey| nahallaC .D yekciR|\n",
            "|01/11/2017|Councilmember|  Jennifer S. Gates|  Jennifer|  setaG .S refinneJ|\n",
            "|04/25/2018|Councilmember|     Sandy  Greyson|     Sandy|     nosyerG  ydnaS|\n",
            "|04/25/2018|Councilmember| Jennifer S.  Gates|  Jennifer| setaG  .S refinneJ|\n",
            "+----------+-------------+-------------------+----------+-------------------+\n",
            "only showing top 20 rows\n",
            "\n",
            "+----------+-------------+-------------------+----------+-------------------+-----+\n",
            "|      DATE|        TITLE|               name|first_name|        ReverseName|Grade|\n",
            "+----------+-------------+-------------------+----------+-------------------+-----+\n",
            "|02/08/2017|Councilmember|  Jennifer S. Gates|  Jennifer|  setaG .S refinneJ|    C|\n",
            "|02/08/2017|Councilmember| Philip T. Kingston|    Philip| notsgniK .T pilihP|    B|\n",
            "|02/08/2017|        Mayor|Michael S. Rawlings|   Michael|sgnilwaR .S leahciM|    B|\n",
            "|02/08/2017|Councilmember|       Adam Medrano|      Adam|       onardeM madA|    A|\n",
            "|02/08/2017|Councilmember|   Casey Thomas, II|     Casey|   II ,samohT yesaC|    C|\n",
            "|02/08/2017|Councilmember|Carolyn King Arnold|   Carolyn|dlonrA gniK nyloraC|    C|\n",
            "|02/08/2017|Councilmember|       Scott Griggs|     Scott|       sggirG ttocS|    A|\n",
            "|02/08/2017|Councilmember|   B. Adam  McGough|        B.|   hguoGcM  madA .B|    C|\n",
            "|02/08/2017|Councilmember|       Lee Kleinman|       Lee|       namnielK eeL|    A|\n",
            "|02/08/2017|Councilmember|      Sandy Greyson|     Sandy|      nosyerG ydnaS|    D|\n",
            "|02/08/2017|Councilmember|  Jennifer S. Gates|  Jennifer|  setaG .S refinneJ|    A|\n",
            "|02/08/2017|Councilmember| Philip T. Kingston|    Philip| notsgniK .T pilihP|    C|\n",
            "|02/08/2017|        Mayor|Michael S. Rawlings|   Michael|sgnilwaR .S leahciM|    C|\n",
            "|02/08/2017|Councilmember|       Adam Medrano|      Adam|       onardeM madA|    C|\n",
            "|02/08/2017|Councilmember|   Casey Thomas, II|     Casey|   II ,samohT yesaC|    D|\n",
            "|02/08/2017|Councilmember|Carolyn King Arnold|   Carolyn|dlonrA gniK nyloraC|    A|\n",
            "|02/08/2017|Councilmember| Rickey D. Callahan|    Rickey| nahallaC .D yekciR|    A|\n",
            "|01/11/2017|Councilmember|  Jennifer S. Gates|  Jennifer|  setaG .S refinneJ|    C|\n",
            "|04/25/2018|Councilmember|     Sandy  Greyson|     Sandy|     nosyerG  ydnaS|    C|\n",
            "|04/25/2018|Councilmember| Jennifer S.  Gates|  Jennifer| setaG  .S refinneJ|    C|\n",
            "+----------+-------------+-------------------+----------+-------------------+-----+\n",
            "only showing top 20 rows\n",
            "\n"
          ],
          "name": "stdout"
        }
      ]
    },
    {
      "cell_type": "code",
      "metadata": {
        "id": "tghZsvVnyU5Y",
        "colab": {
          "base_uri": "https://localhost:8080/"
        },
        "outputId": "48b6365c-a37f-4e72-d471-112be0ee91a1"
      },
      "source": [
        "### More Examples and notice how number of partitions affect pyspark.sql.functions.monotonically_increasing_id()\r\n",
        "# Select all the unique council voters\r\n",
        "df = spark.read.csv(\"voterdata.csv\", header=True, inferSchema=True)\r\n",
        "voter_df = df.select(df[\"VOTER NAME\"]).distinct()\r\n",
        "voter_df_single = voter_df.repartition(1)\r\n",
        "\r\n",
        "# Count the rows in voter_df\r\n",
        "print(\"\\nThere are %d rows in the voter_df DataFrame.\\n\" % voter_df.count())\r\n",
        "\r\n",
        "# Add a ROW_ID ใช้ฟังก์ชัน F.monotonically_increasing_id \r\n",
        "voter_df = voter_df.withColumn('ROW_ID', F.monotonically_increasing_id())\r\n",
        "\r\n",
        "# Show the rows with 10 highest IDs in the set\r\n",
        "voter_df.orderBy(voter_df.ROW_ID.desc()).show(10)\r\n",
        "\r\n",
        "# Print the number of partitions in each DataFrame\r\n",
        "print(\"\\nThere are %d partitions in the voter_df DataFrame.\\n\" % voter_df.rdd.getNumPartitions())\r\n",
        "print(\"\\nThere are %d partitions in the voter_df_single DataFrame.\\n\" % voter_df_single.rdd.getNumPartitions())\r\n",
        "\r\n",
        "# Add a ROW_ID field to each DataFrame\r\n",
        "voter_df = voter_df.withColumn('ROW_ID', F.monotonically_increasing_id())\r\n",
        "voter_df_single = voter_df_single.withColumn('ROW_ID', F.monotonically_increasing_id())\r\n",
        "\r\n",
        "# Show the top 10 IDs in each DataFrame \r\n",
        "voter_df.orderBy(voter_df.ROW_ID.desc()).show(10)\r\n",
        "voter_df_single.orderBy(voter_df_single.ROW_ID.desc()).show(10)"
      ],
      "execution_count": null,
      "outputs": [
        {
          "output_type": "stream",
          "text": [
            "\n",
            "There are 36 rows in the voter_df DataFrame.\n",
            "\n",
            "+--------------------+-------------+\n",
            "|          VOTER NAME|       ROW_ID|\n",
            "+--------------------+-------------+\n",
            "|        Lee Kleinman|1709396983808|\n",
            "|  the  final  201...|1700807049217|\n",
            "|         Erik Wilson|1700807049216|\n",
            "|  the  final   20...|1683627180032|\n",
            "| Carolyn King Arnold|1632087572480|\n",
            "| Rickey D.  Callahan|1597727834112|\n",
            "|   the   final  2...|1443109011456|\n",
            "|    Monica R. Alonzo|1382979469312|\n",
            "|     Lee M. Kleinman|1228360646656|\n",
            "|   Jennifer S. Gates|1194000908288|\n",
            "+--------------------+-------------+\n",
            "only showing top 10 rows\n",
            "\n",
            "\n",
            "There are 200 partitions in the voter_df DataFrame.\n",
            "\n",
            "\n",
            "There are 1 partitions in the voter_df_single DataFrame.\n",
            "\n",
            "+--------------------+-------------+\n",
            "|          VOTER NAME|       ROW_ID|\n",
            "+--------------------+-------------+\n",
            "|        Lee Kleinman|1709396983808|\n",
            "|  the  final  201...|1700807049217|\n",
            "|         Erik Wilson|1700807049216|\n",
            "|  the  final   20...|1683627180032|\n",
            "| Carolyn King Arnold|1632087572480|\n",
            "| Rickey D.  Callahan|1597727834112|\n",
            "|   the   final  2...|1443109011456|\n",
            "|    Monica R. Alonzo|1382979469312|\n",
            "|     Lee M. Kleinman|1228360646656|\n",
            "|   Jennifer S. Gates|1194000908288|\n",
            "+--------------------+-------------+\n",
            "only showing top 10 rows\n",
            "\n",
            "+--------------------+------+\n",
            "|          VOTER NAME|ROW_ID|\n",
            "+--------------------+------+\n",
            "|        Lee Kleinman|    35|\n",
            "|  the  final  201...|    34|\n",
            "|         Erik Wilson|    33|\n",
            "|  the  final   20...|    32|\n",
            "| Carolyn King Arnold|    31|\n",
            "| Rickey D.  Callahan|    30|\n",
            "|   the   final  2...|    29|\n",
            "|    Monica R. Alonzo|    28|\n",
            "|     Lee M. Kleinman|    27|\n",
            "|   Jennifer S. Gates|    26|\n",
            "+--------------------+------+\n",
            "only showing top 10 rows\n",
            "\n"
          ],
          "name": "stdout"
        }
      ]
    },
    {
      "cell_type": "code",
      "metadata": {
        "id": "ILtBxq1L3PQv",
        "colab": {
          "base_uri": "https://localhost:8080/"
        },
        "outputId": "8640ff5c-4ab0-44a5-f7b7-814c2d1699db"
      },
      "source": [
        "### Caching\r\n",
        "import pyspark.sql.functions as F\r\n",
        "voter_df = spark.read.csv(\"voterdata.csv\", header=True, inferSchema=True)\r\n",
        "print(voter_df.cache().count())\r\n",
        "\r\n",
        "voter_df = spark.read.csv(\"voterdata.csv\", header=True, inferSchema=True).withColumn(\"ID\", F.monotonically_increasing_id())\r\n",
        "voter_df = voter_df.cache()\r\n",
        "voter_df.show()\r\n",
        "\r\n",
        "# Check cache\r\n",
        "print(voter_df.is_cached)\r\n",
        "\r\n",
        "# Remove cache\r\n",
        "voter_df.unpersist()\r\n",
        "print(voter_df.is_cached)"
      ],
      "execution_count": null,
      "outputs": [
        {
          "output_type": "stream",
          "text": [
            "44625\n",
            "+----------+------------------+-----------+--------+-------------+-------------------+---------+------------------+-----------------------+------------------+--------------------+---+\n",
            "|      DATE|AGENDA_ITEM_NUMBER|  ITEM_TYPE|DISTRICT|        TITLE|         VOTER NAME|VOTE CAST|FINAL ACTION TAKEN|AGENDA ITEM DESCRIPTION|         AGENDA_ID|             VOTE_ID| ID|\n",
            "+----------+------------------+-----------+--------+-------------+-------------------+---------+------------------+-----------------------+------------------+--------------------+---+\n",
            "|02/08/2017|                 1|     AGENDA|      13|Councilmember|  Jennifer S. Gates|      N/A|  NO ACTION NEEDED|          Call to Order|020817__Special__1|020817__Special__...|  0|\n",
            "|02/08/2017|                 1|     AGENDA|      14|Councilmember| Philip T. Kingston|      N/A|  NO ACTION NEEDED|          Call to Order|020817__Special__1|020817__Special__...|  1|\n",
            "|02/08/2017|                 1|     AGENDA|      15|        Mayor|Michael S. Rawlings|      N/A|  NO ACTION NEEDED|          Call to Order|020817__Special__1|020817__Special__...|  2|\n",
            "|02/08/2017|                 1|     AGENDA|       2|Councilmember|       Adam Medrano|      N/A|  NO ACTION NEEDED|          Call to Order|020817__Special__1|020817__Special__1_2|  3|\n",
            "|02/08/2017|                 1|     AGENDA|       3|Councilmember|   Casey Thomas, II|      N/A|  NO ACTION NEEDED|          Call to Order|020817__Special__1|020817__Special__1_3|  4|\n",
            "|02/08/2017|                 1|     AGENDA|       4|Councilmember|Carolyn King Arnold|      N/A|  NO ACTION NEEDED|          Call to Order|020817__Special__1|020817__Special__1_4|  5|\n",
            "|02/08/2017|                 4|AGENDA DATE|       1|Councilmember|       Scott Griggs|      YES|          APPROVED|   Authorize a three...|         020817__4|         020817__4_1|  6|\n",
            "|02/08/2017|                 4|AGENDA DATE|      10|Councilmember|   B. Adam  McGough|      YES|          APPROVED|   Authorize a three...|         020817__4|        020817__4_10|  7|\n",
            "|02/08/2017|                 4|AGENDA DATE|      11|Councilmember|       Lee Kleinman|      YES|          APPROVED|   Authorize a three...|         020817__4|        020817__4_11|  8|\n",
            "|02/08/2017|                 4|AGENDA DATE|      12|Councilmember|      Sandy Greyson|      YES|          APPROVED|   Authorize a three...|         020817__4|        020817__4_12|  9|\n",
            "|02/08/2017|                 4|AGENDA DATE|      13|Councilmember|  Jennifer S. Gates|      YES|          APPROVED|   Authorize a three...|         020817__4|        020817__4_13| 10|\n",
            "|02/08/2017|                 4|AGENDA DATE|      14|Councilmember| Philip T. Kingston|      YES|          APPROVED|   Authorize a three...|         020817__4|        020817__4_14| 11|\n",
            "|02/08/2017|                 4|AGENDA DATE|      15|        Mayor|Michael S. Rawlings|      YES|          APPROVED|   Authorize a three...|         020817__4|        020817__4_15| 12|\n",
            "|02/08/2017|                 4|AGENDA DATE|       2|Councilmember|       Adam Medrano|      YES|          APPROVED|   Authorize a three...|         020817__4|         020817__4_2| 13|\n",
            "|02/08/2017|                 4|AGENDA DATE|       3|Councilmember|   Casey Thomas, II|      YES|          APPROVED|   Authorize a three...|         020817__4|         020817__4_3| 14|\n",
            "|02/08/2017|                 4|AGENDA DATE|       4|Councilmember|Carolyn King Arnold|      YES|          APPROVED|   Authorize a three...|         020817__4|         020817__4_4| 15|\n",
            "|02/08/2017|                 4|AGENDA DATE|       5|Councilmember| Rickey D. Callahan|      YES|          APPROVED|   Authorize a three...|         020817__4|         020817__4_5| 16|\n",
            "|01/11/2017|                 1|AGENDA DATE|      13|Councilmember|  Jennifer S. Gates|      YES|          APPROVED|   Approval of Minut...|         011117__1|        011117__1_13| 17|\n",
            "|04/25/2018|                 1|AGENDA DATE|      12|Councilmember|     Sandy  Greyson|      YES|          APPROVED|   Approval of Minut...|         042518__1|        042518__1_12| 18|\n",
            "|04/25/2018|                 1|AGENDA DATE|      13|Councilmember| Jennifer S.  Gates|      YES|          APPROVED|   Approval of Minut...|         042518__1|        042518__1_13| 19|\n",
            "+----------+------------------+-----------+--------+-------------+-------------------+---------+------------------+-----------------------+------------------+--------------------+---+\n",
            "only showing top 20 rows\n",
            "\n",
            "True\n",
            "False\n"
          ],
          "name": "stdout"
        }
      ]
    },
    {
      "cell_type": "code",
      "metadata": {
        "colab": {
          "base_uri": "https://localhost:8080/"
        },
        "id": "6EbZ4Oqm9c_j",
        "outputId": "9dfae91d-d98e-4e4d-c935-23f14bd8a5fb"
      },
      "source": [
        "### How to split objects\r\n",
        "\r\n",
        "# Use OS utilities\r\n",
        "#### split -l 10000 -d largefilename chunk- ####\r\n",
        "# -l 10000 คือจำนวนบรรทัด\r\n",
        "# -d ใช้ตัวเลขเป็น suffix\r\n",
        "# largefilename คือชื่อไฟล์\r\n",
        "# chunk- เป็น prefix\r\n",
        "\r\n",
        "# เขียนลง parquet\r\n",
        "df_csv =  spark.read.csv(\"voterdata.csv\", header=True, inferSchema=True)\r\n",
        "\r\n",
        "# สมมติมี voterdata000.csv - voterdata999.csv\r\n",
        "# ใช้ df_csv =  spark.read.csv(\"voterdata*.csv\", header=True, inferSchema=True)\r\n",
        "\r\n",
        "df_csv =  df.withColumnRenamed(\"VOTER NAME\", \"name\") # ไฟล์ parquet ไม่สามารถใช้ชื่อคอลัมน์มี space ได้ contains invalid character(s) among \" ,;{}()\\n\\t=\r\n",
        "df_csv =  df_csv.select(\"DATE\", \"name\")\r\n",
        "df_csv.write.parquet(\"data3.parquet\")\r\n",
        "df_pq = spark.read.parquet(\"data3.parquet\")\r\n",
        "df_pq.show()"
      ],
      "execution_count": null,
      "outputs": [
        {
          "output_type": "stream",
          "text": [
            "+----------+-------------------+\n",
            "|      DATE|               name|\n",
            "+----------+-------------------+\n",
            "|02/08/2017|  Jennifer S. Gates|\n",
            "|02/08/2017| Philip T. Kingston|\n",
            "|02/08/2017|Michael S. Rawlings|\n",
            "|02/08/2017|       Adam Medrano|\n",
            "|02/08/2017|   Casey Thomas, II|\n",
            "|02/08/2017|Carolyn King Arnold|\n",
            "|02/08/2017|       Scott Griggs|\n",
            "|02/08/2017|   B. Adam  McGough|\n",
            "|02/08/2017|       Lee Kleinman|\n",
            "|02/08/2017|      Sandy Greyson|\n",
            "|02/08/2017|  Jennifer S. Gates|\n",
            "|02/08/2017| Philip T. Kingston|\n",
            "|02/08/2017|Michael S. Rawlings|\n",
            "|02/08/2017|       Adam Medrano|\n",
            "|02/08/2017|   Casey Thomas, II|\n",
            "|02/08/2017|Carolyn King Arnold|\n",
            "|02/08/2017| Rickey D. Callahan|\n",
            "|01/11/2017|  Jennifer S. Gates|\n",
            "|04/25/2018|     Sandy  Greyson|\n",
            "|04/25/2018| Jennifer S.  Gates|\n",
            "+----------+-------------------+\n",
            "only showing top 20 rows\n",
            "\n"
          ],
          "name": "stdout"
        }
      ]
    },
    {
      "cell_type": "code",
      "metadata": {
        "colab": {
          "base_uri": "https://localhost:8080/"
        },
        "id": "iYxjbvaz1C33",
        "outputId": "20f5cf92-f646-4c5e-e221-b1aa4c43a24c"
      },
      "source": [
        "### Reading Spark configurations\r\n",
        "\r\n",
        "# Name of the Spark application instance\r\n",
        "app_name = spark.conf.get(\"spark.app.name\")\r\n",
        "\r\n",
        "# Driver TCP port\r\n",
        "driver_tcp_port = spark.conf.get(\"spark.driver.port\")\r\n",
        "\r\n",
        "# Number of join partitions\r\n",
        "num_partitions = spark.conf.get('spark.sql.shuffle.partitions')\r\n",
        "\r\n",
        "# Show the results\r\n",
        "print(\"Name: %s\" % app_name)\r\n",
        "print(\"Driver TCP port: %s\" % driver_tcp_port)\r\n",
        "print(\"Number of partitions: %s\" % num_partitions, \"\\n\\n\")\r\n",
        "\r\n",
        "# Set Spark config\r\n",
        "\r\n",
        "# Store the number of partitions in variable\r\n",
        "departures_df = spark.read.csv('AA_DFW_2017_Departures_Short.csv.gz').distinct()\r\n",
        "before = departures_df.rdd.getNumPartitions()\r\n",
        "\r\n",
        "# Configure Spark to use 500 partitions\r\n",
        "spark.conf.set('spark.sql.shuffle.partitions', 500)\r\n",
        "\r\n",
        "# Recreate the DataFrame using the departures data file\r\n",
        "departures_df = spark.read.csv('AA_DFW_2017_Departures_Short.csv.gz').distinct()\r\n",
        "\r\n",
        "# Print the number of partitions for each instance\r\n",
        "print(\"Partition count before change: %d\" % before)\r\n",
        "print(\"Partition count after change: %d\" % departures_df.rdd.getNumPartitions())"
      ],
      "execution_count": null,
      "outputs": [
        {
          "output_type": "stream",
          "text": [
            "Name: pyspark-shell\n",
            "Driver TCP port: 35443\n",
            "Number of partitions: 200 \n",
            "\n",
            "\n",
            "Partition count before change: 200\n",
            "Partition count after change: 500\n"
          ],
          "name": "stdout"
        }
      ]
    },
    {
      "cell_type": "code",
      "metadata": {
        "id": "a736GuQl8Uqd"
      },
      "source": [
        "### Data Pipelines\r\n",
        "\r\n",
        "# Import the data to a DataFrame\r\n",
        "departures_df = spark.read.csv(\"AA_DFW_2015_Departures_Short.csv.gz\", header=True)\r\n",
        "\r\n",
        "# Remove any duration of 0\r\n",
        "departures_df = departures_df.filter(departures_df[\"Actual elapsed time (Minutes)\"] > 0)\r\n",
        "\r\n",
        "# Add an ID column\r\n",
        "departures_df = departures_df.withColumn('id', F.monotonically_increasing_id())\r\n",
        "\r\n",
        "# Write the file out to JSON format\r\n",
        "departures_df.write.json(\"output.json\", mode='overwrite')\r\n"
      ],
      "execution_count": null,
      "outputs": []
    },
    {
      "cell_type": "code",
      "metadata": {
        "colab": {
          "base_uri": "https://localhost:8080/"
        },
        "id": "5gZhuVS_Qhku",
        "outputId": "ef1b993a-6636-4c55-d9eb-3c9df40fed2b"
      },
      "source": [
        "### Removng commented lines\r\n",
        "\r\n",
        "import pyspark.sql.functions as F\r\n",
        "from pyspark.sql.functions import col\r\n",
        "from pyspark.sql.types import StructType, StructField, StringType, IntegerType, ArrayType\r\n",
        "\r\n",
        "\r\n",
        "# Import the file to a DataFrame and perform a row count\r\n",
        "annotations_df = spark.read.csv('annotations.csv.gz', sep=\"|\")\r\n",
        "full_count = annotations_df.count()\r\n",
        "\r\n",
        "# Count the number of rows beginning with '#'\r\n",
        "comment_count = annotations_df.where(col('_c0').startswith('#')).count()\r\n",
        "\r\n",
        "# Import the file to a new DataFrame, without commented rows\r\n",
        "no_comments_df = spark.read.csv('annotations.csv.gz', sep=\"|\", comment='#')\r\n",
        "\r\n",
        "# Count the new DataFrame and verify the difference is as expected\r\n",
        "no_comments_count = no_comments_df.count()\r\n",
        "print(\"Full count: %d\\nComment count: %d\\nRemaining count: %d\" % (full_count, comment_count, no_comments_count))\r\n",
        "\r\n",
        "### Removing invalid rows ###\r\n",
        "\r\n",
        "# Split _c0 on the tab character and store the list in a variable\r\n",
        "tmp_fields = F.split(annotations_df['_c0'], \"\\t\")\r\n",
        "\r\n",
        "# Create the colcount column on the DataFrame\r\n",
        "annotations_df = annotations_df.withColumn('colcount', F.size(tmp_fields))\r\n",
        "\r\n",
        "# Remove any rows containing fewer than 5 fields\r\n",
        "annotations_df_filtered = annotations_df.filter(~ (annotations_df.colcount >= 5))\r\n",
        "\r\n",
        "initial_count = 31378\r\n",
        "# Count the number of rows\r\n",
        "final_count = annotations_df_filtered.count()\r\n",
        "print(\"Initial count: %d\\nFinal count: %d\" % (initial_count, final_count))\r\n",
        "\r\n",
        "### Splitting into columns ###\r\n",
        "\r\n",
        "# Split the content of _c0 on the tab character (aka, '\\t')\r\n",
        "split_cols = F.split(annotations_df['_c0'], '\\t')\r\n",
        "\r\n",
        "# Add the columns folder, filename, width, and height\r\n",
        "split_df = annotations_df.withColumn('folder', split_cols.getItem(0))\r\n",
        "split_df = split_df.withColumn('filename', split_cols.getItem(1))\r\n",
        "split_df = split_df.withColumn('width', split_cols.getItem(2))\r\n",
        "split_df = split_df.withColumn('height', split_cols.getItem(3))\r\n",
        "\r\n",
        "# Add split_cols as a column\r\n",
        "split_df = split_df.withColumn('split_cols', split_cols)\r\n",
        "\r\n",
        "### Using F.udf\r\n",
        "\r\n",
        "def retriever(cols, colcount):\r\n",
        "  # Return a list of dog data\r\n",
        "  return cols[4:colcount]\r\n",
        "\r\n",
        "# Define the method as a UDF\r\n",
        "udfRetriever = F.udf(retriever, ArrayType(StringType()))\r\n",
        "\r\n",
        "# Create a new column using your UDF\r\n",
        "split_df = split_df.withColumn('dog_list', udfRetriever(split_df[\"split_cols\"], split_df[\"colcount\"]))\r\n",
        "\r\n",
        "# Remove the original column, split_cols, and the colcount\r\n",
        "split_df = split_df.drop('_c0').drop('colcount').drop('split_cols')"
      ],
      "execution_count": null,
      "outputs": [
        {
          "output_type": "stream",
          "text": [
            "Full count: 32794\n",
            "Comment count: 1416\n",
            "Remaining count: 31378\n",
            "Initial count: 31378\n",
            "Final count: 12214\n"
          ],
          "name": "stdout"
        }
      ]
    },
    {
      "cell_type": "code",
      "metadata": {
        "colab": {
          "base_uri": "https://localhost:8080/"
        },
        "id": "ZiJtfiMPeNtJ",
        "outputId": "c2a0cbf6-074e-42f3-f25d-4fdde35cf7e4"
      },
      "source": [
        "### Validate rows via join ###\r\n",
        "\r\n",
        "valid_folders_df = spark.read.csv(\"valid_folders.txt\")\r\n",
        "\r\n",
        "# Rename the column in valid_folders_df\r\n",
        "valid_folders_df = valid_folders_df.withColumnRenamed(\"_c0\", \"folder\")\r\n",
        "\r\n",
        "# Count the number of rows in split_df\r\n",
        "split_count = split_df.count()\r\n",
        "\r\n",
        "# Join the DataFrames\r\n",
        "joined_df = split_df.join(valid_folders_df, \"folder\")\r\n",
        "\r\n",
        "# Compare the number of rows remaining\r\n",
        "joined_count = joined_df.count()\r\n",
        "print(\"Before: %d\\nAfter: %d\" % (split_count, joined_count))\r\n",
        "\r\n",
        "# Determine the row counts for each DataFrame\r\n",
        "split_count = split_df.count()\r\n",
        "joined_count = joined_df.count()\r\n",
        "\r\n",
        "# Create a DataFrame containing the invalid rows\r\n",
        "invalid_df = split_df.join(joined_df, on='folder', how='leftOuter')\r\n",
        "\r\n",
        "# Validate the count of the new DataFrame is as expected\r\n",
        "invalid_count = invalid_df.count()\r\n",
        "print(\" split_df:\\t%d\\n joined_df:\\t%d\\n invalid_df: \\t%d\" % (split_count, joined_count, invalid_count))\r\n",
        "\r\n",
        "# Determine the number of distinct folder rows removed\r\n",
        "invalid_folder_count = invalid_df.select('folder').distinct().count()\r\n",
        "print(\"%d distinct invalid folders found\" % invalid_folder_count)\r\n",
        "\r\n"
      ],
      "execution_count": null,
      "outputs": [
        {
          "output_type": "stream",
          "text": [
            "Before: 32794\n",
            "After: 20945\n",
            " split_df:\t32794\n",
            " joined_df:\t20945\n",
            " invalid_df: \t3509094\n",
            "12328 distinct invalid folders found\n"
          ],
          "name": "stdout"
        }
      ]
    },
    {
      "cell_type": "code",
      "metadata": {
        "colab": {
          "base_uri": "https://localhost:8080/"
        },
        "id": "-VjEx3oRH6Zn",
        "outputId": "28d2ffe6-4a6a-4632-a28a-f1c989ba1a16"
      },
      "source": [
        "### Dog Parsing\r\n",
        "# Select the dog details and show 10 untruncated rows\r\n",
        "print(joined_df.select(\"dog_list\").show(10, truncate=False))\r\n",
        "\r\n",
        "# Define a schema type for the details in the dog list\r\n",
        "DogType = StructType([\r\n",
        "\tStructField(\"breed\", StringType(), False),\r\n",
        "    StructField(\"start_x\", IntegerType(), False),\r\n",
        "    StructField(\"start_y\", IntegerType(), False),\r\n",
        "    StructField(\"end_x\", IntegerType(), False),\r\n",
        "    StructField(\"end_y\", IntegerType(), False)])\r\n",
        "\r\n",
        "# Create a function to return the number and type of dogs as a tuple\r\n",
        "def dogParse(doglist):\r\n",
        "  dogs = []\r\n",
        "  for dog in doglist:\r\n",
        "    (breed, start_x, start_y, end_x, end_y) = dog.split(',')\r\n",
        "    dogs.append((breed, int(start_x), int(start_y), int(end_x), int(end_y)))\r\n",
        "  return dogs\r\n",
        "\r\n",
        "# Create a UDF\r\n",
        "udfDogParse = F.udf(dogParse, ArrayType(DogType))\r\n",
        "\r\n",
        "# Use the UDF to list of dogs and drop the old column\r\n",
        "joined_df = joined_df.withColumn('dogs', udfDogParse('dog_list')).drop('dog_list')\r\n",
        "\r\n",
        "# Show the number of dogs in the first 10 rows\r\n",
        "joined_df.select(F.size('dogs')).show(10)\r\n",
        "\r\n",
        "# Define a UDF to determine the number of pixels per image\r\n",
        "def dogPixelCount(doglist):\r\n",
        "  totalpixels = 0\r\n",
        "  for dog in doglist:\r\n",
        "    totalpixels += (dog[3] - dog[1]) * (dog[4] - dog[2])\r\n",
        "  return totalpixels\r\n",
        "\r\n",
        "# Define a UDF for the pixel count\r\n",
        "udfDogPixelCount = F.udf(dogPixelCount, IntegerType())\r\n",
        "joined_df = joined_df.withColumn(\"dog_pixels\", udfDogPixelCount(\"dogs\"))\r\n",
        "\r\n",
        "# Create a column representing the percentage of pixels\r\n",
        "joined_df = joined_df.withColumn('dog_percent', (joined_df.dog_pixels / (joined_df.width*joined_df.height)) * 100)\r\n",
        "\r\n",
        "# Show the first 10 annotations with more than 60% dog\r\n",
        "joined_df.filter(\"dog_percent > 60\").show(10)"
      ],
      "execution_count": null,
      "outputs": [
        {
          "output_type": "stream",
          "text": [
            "+----------------------------------+\n",
            "|dog_list                          |\n",
            "+----------------------------------+\n",
            "|[affenpinscher,0,9,173,298]       |\n",
            "|[Border_terrier,73,127,341,335]   |\n",
            "|[kuvasz,0,0,499,327]              |\n",
            "|[Great_Pyrenees,124,225,403,374]  |\n",
            "|[schipperke,146,29,416,309]       |\n",
            "|[groenendael,168,0,469,374]       |\n",
            "|[Bedlington_terrier,10,12,462,332]|\n",
            "|[Lhasa,39,1,499,373]              |\n",
            "|[Kerry_blue_terrier,17,16,300,482]|\n",
            "|[vizsla,112,93,276,236]           |\n",
            "+----------------------------------+\n",
            "only showing top 10 rows\n",
            "\n",
            "None\n",
            "+----------+\n",
            "|size(dogs)|\n",
            "+----------+\n",
            "|         1|\n",
            "|         1|\n",
            "|         1|\n",
            "|         1|\n",
            "|         1|\n",
            "|         1|\n",
            "|         1|\n",
            "|         1|\n",
            "|         1|\n",
            "|         1|\n",
            "+----------+\n",
            "only showing top 10 rows\n",
            "\n",
            "+--------+---------------+-----+------+--------------------+----------+-----------------+\n",
            "|  folder|       filename|width|height|                dogs|dog_pixels|      dog_percent|\n",
            "+--------+---------------+-----+------+--------------------+----------+-----------------+\n",
            "|02110627|n02110627_12938|  200|   300|[[affenpinscher, ...|     49997|83.32833333333333|\n",
            "|02104029|   n02104029_63|  500|   375|[[kuvasz, 0, 0, 4...|    163173|          87.0256|\n",
            "|02105056| n02105056_2834|  500|   375|[[groenendael, 16...|    112574|60.03946666666666|\n",
            "|02093647|  n02093647_541|  500|   333|[[Bedlington_terr...|    144640|86.87087087087087|\n",
            "|02098413| n02098413_1355|  500|   375|[[Lhasa, 39, 1, 4...|    171120|           91.264|\n",
            "|02093859| n02093859_2309|  330|   500|[[Kerry_blue_terr...|    131878|79.92606060606062|\n",
            "|02109961| n02109961_1017|  475|   500|[[Eskimo_dog, 43,...|    189189|79.65852631578947|\n",
            "|02108000| n02108000_3491|  600|   450|[[EntleBucher, 30...|    168667|62.46925925925926|\n",
            "|02085782| n02085782_1731|  600|   449|[[Japanese_spanie...|    250125|92.84521158129176|\n",
            "|02110185| n02110185_2736|  259|   500|[[Siberian_husky,...|    113088|87.32664092664093|\n",
            "+--------+---------------+-----+------+--------------------+----------+-----------------+\n",
            "only showing top 10 rows\n",
            "\n"
          ],
          "name": "stdout"
        }
      ]
    },
    {
      "cell_type": "code",
      "metadata": {
        "colab": {
          "base_uri": "https://localhost:8080/"
        },
        "id": "CZpSHVn-hf-r",
        "outputId": "98f9f88b-75b8-4f1a-bb7b-d85969ef7084"
      },
      "source": [
        ""
      ],
      "execution_count": null,
      "outputs": [
        {
          "output_type": "stream",
          "text": [
            "+----------+\n",
            "|size(dogs)|\n",
            "+----------+\n",
            "|         1|\n",
            "|         1|\n",
            "|         1|\n",
            "|         1|\n",
            "|         1|\n",
            "|         1|\n",
            "|         1|\n",
            "|         1|\n",
            "|         1|\n",
            "|         1|\n",
            "+----------+\n",
            "only showing top 10 rows\n",
            "\n"
          ],
          "name": "stdout"
        }
      ]
    },
    {
      "cell_type": "code",
      "metadata": {
        "id": "HKzOT9s2iHZK"
      },
      "source": [
        ""
      ],
      "execution_count": null,
      "outputs": []
    }
  ]
}